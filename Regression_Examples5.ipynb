{
 "cells": [
  {
   "cell_type": "markdown",
   "metadata": {},
   "source": [
    "## Econ 430\n",
    "### UCLA, Master of Quantitative Economics\n",
    "#### Dr. Randall R. Rojas\n",
    "Note: For more details on the codes, please see our textbook; Using Python for Introductory Econometrics by F. Heiss & D. Brunner."
   ]
  },
  {
   "cell_type": "markdown",
   "metadata": {},
   "source": [
    "# 1) Pooled Cross-Sections\n",
    "## Example: Changes to the Return to Education and the  Gender Wage Gap"
   ]
  },
  {
   "cell_type": "code",
   "execution_count": 1,
   "metadata": {},
   "outputs": [
    {
     "name": "stdout",
     "output_type": "stream",
     "text": [
      "table: \n",
      "                            b      se        t    pval\n",
      "Intercept              0.4589  0.0934   4.9111  0.0000\n",
      "y85                    0.1178  0.1238   0.9517  0.3415\n",
      "educ                   0.0747  0.0067  11.1917  0.0000\n",
      "female                -0.3167  0.0366  -8.6482  0.0000\n",
      "y85:educ               0.0185  0.0094   1.9735  0.0487\n",
      "y85:female             0.0851  0.0513   1.6576  0.0977\n",
      "exper                  0.0296  0.0036   8.2932  0.0000\n",
      "I((exper ** 2) / 100) -0.0399  0.0078  -5.1513  0.0000\n",
      "union                  0.2021  0.0303   6.6722  0.0000\n",
      "\n"
     ]
    }
   ],
   "source": [
    "import wooldridge as woo\n",
    "import pandas as pd\n",
    "import statsmodels.formula.api as smf\n",
    "\n",
    "cps78_85 = woo.dataWoo('cps78_85')\n",
    "\n",
    "# OLS results including interaction terms:\n",
    "reg = smf.ols(formula='lwage ~ y85*(educ+female) + exper +'\n",
    "                      'I((exper**2)/100) + union',\n",
    "              data=cps78_85)\n",
    "results = reg.fit()\n",
    "\n",
    "# print regression table:\n",
    "table = pd.DataFrame({'b': round(results.params, 4),\n",
    "                      'se': round(results.bse, 4),\n",
    "                      't': round(results.tvalues, 4),\n",
    "                      'pval': round(results.pvalues, 4)})\n",
    "print(f'table: \\n{table}\\n')\n"
   ]
  },
  {
   "cell_type": "markdown",
   "metadata": {},
   "source": [
    "# 2) Difference-in-Differences\n",
    "## Example: Effect of Garbage Incinerator's Location on Housing Prices"
   ]
  },
  {
   "cell_type": "code",
   "execution_count": 2,
   "metadata": {},
   "outputs": [
    {
     "name": "stdout",
     "output_type": "stream",
     "text": [
      "table_78: \n",
      "                    b        se        t    pval\n",
      "Intercept  82517.2276  2653.790  31.0941  0.0000\n",
      "nearinc   -18824.3705  4744.594  -3.9675  0.0001\n",
      "\n",
      "table_81: \n",
      "                     b         se        t  pval\n",
      "Intercept  101307.5136  3093.0267  32.7535   0.0\n",
      "nearinc    -30688.2738  5827.7088  -5.2659   0.0\n",
      "\n",
      "table_joint: \n",
      "                                  b         se        t    pval\n",
      "Intercept                82517.2276  2726.9101  30.2603  0.0000\n",
      "C(year)[T.1981]          18790.2860  4050.0650   4.6395  0.0000\n",
      "nearinc                 -18824.3705  4875.3221  -3.8612  0.0001\n",
      "nearinc:C(year)[T.1981] -11863.9033  7456.6462  -1.5911  0.1126\n",
      "\n"
     ]
    }
   ],
   "source": [
    "import wooldridge as woo\n",
    "import pandas as pd\n",
    "import statsmodels.formula.api as smf\n",
    "\n",
    "kielmc = woo.dataWoo('kielmc')\n",
    "\n",
    "# separate regressions for 1978 and 1981:\n",
    "y78 = (kielmc['year'] == 1978)\n",
    "reg78 = smf.ols(formula='rprice ~ nearinc', data=kielmc, subset=y78)\n",
    "results78 = reg78.fit()\n",
    "\n",
    "y81 = (kielmc['year'] == 1981)\n",
    "reg81 = smf.ols(formula='rprice ~ nearinc', data=kielmc, subset=y81)\n",
    "results81 = reg81.fit()\n",
    "\n",
    "# joint regression including an interaction term:\n",
    "reg_joint = smf.ols(formula='rprice ~ nearinc * C(year)', data=kielmc)\n",
    "results_joint = reg_joint.fit()\n",
    "\n",
    "# print regression tables:\n",
    "table_78 = pd.DataFrame({'b': round(results78.params, 4),\n",
    "                         'se': round(results78.bse, 4),\n",
    "                         't': round(results78.tvalues, 4),\n",
    "                         'pval': round(results78.pvalues, 4)})\n",
    "print(f'table_78: \\n{table_78}\\n')\n",
    "\n",
    "table_81 = pd.DataFrame({'b': round(results81.params, 4),\n",
    "                         'se': round(results81.bse, 4),\n",
    "                         't': round(results81.tvalues, 4),\n",
    "                         'pval': round(results81.pvalues, 4)})\n",
    "print(f'table_81: \\n{table_81}\\n')\n",
    "\n",
    "table_joint = pd.DataFrame({'b': round(results_joint.params, 4),\n",
    "                            'se': round(results_joint.bse, 4),\n",
    "                            't': round(results_joint.tvalues, 4),\n",
    "                            'pval': round(results_joint.pvalues, 4)})\n",
    "print(f'table_joint: \\n{table_joint}\\n')\n"
   ]
  },
  {
   "cell_type": "markdown",
   "metadata": {},
   "source": [
    "## Example: Effect of Garbage Incinerator's Location on Housing Prices\n",
    "Improved model: Using $\\log(y)$ and additional regressors.  \n",
    "Result: The decrease is now around 13.2%."
   ]
  },
  {
   "cell_type": "code",
   "execution_count": 3,
   "metadata": {},
   "outputs": [
    {
     "name": "stdout",
     "output_type": "stream",
     "text": [
      "table_did: \n",
      "                               b      se         t    pval\n",
      "Intercept                11.2854  0.0305  369.8386  0.0000\n",
      "C(year)[T.1981]           0.1931  0.0453    4.2606  0.0000\n",
      "nearinc                  -0.3399  0.0546   -6.2308  0.0000\n",
      "nearinc:C(year)[T.1981]  -0.0626  0.0834   -0.7508  0.4533\n",
      "\n",
      "table_didC: \n",
      "                              b      se        t    pval\n",
      "Intercept                7.6517  0.4159  18.3986  0.0000\n",
      "C(year)[T.1981]          0.1621  0.0285   5.6868  0.0000\n",
      "nearinc                  0.0322  0.0475   0.6789  0.4977\n",
      "nearinc:C(year)[T.1981] -0.1315  0.0520  -2.5305  0.0119\n",
      "age                     -0.0084  0.0014  -5.9236  0.0000\n",
      "I(age ** 2)              0.0000  0.0000   4.3415  0.0000\n",
      "np.log(intst)           -0.0614  0.0315  -1.9500  0.0521\n",
      "np.log(land)             0.0998  0.0245   4.0766  0.0001\n",
      "np.log(area)             0.3508  0.0515   6.8129  0.0000\n",
      "rooms                    0.0473  0.0173   2.7317  0.0067\n",
      "baths                    0.0943  0.0277   3.4003  0.0008\n",
      "\n"
     ]
    }
   ],
   "source": [
    "import wooldridge as woo\n",
    "import numpy as np\n",
    "import pandas as pd\n",
    "import statsmodels.formula.api as smf\n",
    "\n",
    "kielmc = woo.dataWoo('kielmc')\n",
    "\n",
    "# difference in difference (DiD):\n",
    "reg_did = smf.ols(formula='np.log(rprice) ~ nearinc*C(year)', data=kielmc)\n",
    "results_did = reg_did.fit()\n",
    "\n",
    "# print regression table:\n",
    "table_did = pd.DataFrame({'b': round(results_did.params, 4),\n",
    "                          'se': round(results_did.bse, 4),\n",
    "                          't': round(results_did.tvalues, 4),\n",
    "                          'pval': round(results_did.pvalues, 4)})\n",
    "print(f'table_did: \\n{table_did}\\n')\n",
    "\n",
    "# DiD with control variables:\n",
    "reg_didC = smf.ols(formula='np.log(rprice) ~ nearinc*C(year) + age +'\n",
    "                           'I(age**2) + np.log(intst) + np.log(land) +'\n",
    "                           'np.log(area) + rooms + baths',\n",
    "                   data=kielmc)\n",
    "results_didC = reg_didC.fit()\n",
    "\n",
    "# print regression table:\n",
    "table_didC = pd.DataFrame({'b': round(results_didC.params, 4),\n",
    "                           'se': round(results_didC.bse, 4),\n",
    "                           't': round(results_didC.tvalues, 4),\n",
    "                           'pval': round(results_didC.pvalues, 4)})\n",
    "print(f'table_didC: \\n{table_didC}\\n')\n",
    "# Note: The decrease is now around 13.2%"
   ]
  },
  {
   "cell_type": "markdown",
   "metadata": {},
   "source": [
    "# 3) First Difference Estimator\n",
    "## Example: County Crime Rates in North Carolina"
   ]
  },
  {
   "cell_type": "code",
   "execution_count": 4,
   "metadata": {},
   "outputs": [
    {
     "name": "stdout",
     "output_type": "stream",
     "text": [
      "results: \n",
      "                     FirstDifferenceOLS Estimation Summary                      \n",
      "================================================================================\n",
      "Dep. Variable:         np.log(crmrte)   R-squared:                        0.4326\n",
      "Estimator:         FirstDifferenceOLS   R-squared (Between):              0.6003\n",
      "No. Observations:                 540   R-squared (Within):               0.4281\n",
      "Date:                Sun, Nov 07 2021   R-squared (Overall):              0.6000\n",
      "Time:                        16:22:21   Log-likelihood                    248.48\n",
      "Cov. Estimator:            Unadjusted                                           \n",
      "                                        F-statistic:                      36.661\n",
      "Entities:                          90   P-value                           0.0000\n",
      "Avg Obs:                       7.0000   Distribution:                  F(11,529)\n",
      "Min Obs:                       7.0000                                           \n",
      "Max Obs:                       7.0000   F-statistic (robust):             36.661\n",
      "                                        P-value                           0.0000\n",
      "Time periods:                       7   Distribution:                  F(11,529)\n",
      "Avg Obs:                       90.000                                           \n",
      "Min Obs:                       90.000                                           \n",
      "Max Obs:                       90.000                                           \n",
      "                                                                                \n",
      "                             Parameter Estimates                              \n",
      "==============================================================================\n",
      "            Parameter  Std. Err.     T-stat    P-value    Lower CI    Upper CI\n",
      "------------------------------------------------------------------------------\n",
      "year           0.0077     0.0171     0.4522     0.6513     -0.0258      0.0412\n",
      "d83           -0.0999     0.0239    -4.1793     0.0000     -0.1468     -0.0529\n",
      "d84           -0.1478     0.0413    -3.5806     0.0004     -0.2289     -0.0667\n",
      "d85           -0.1524     0.0584    -2.6098     0.0093     -0.2671     -0.0377\n",
      "d86           -0.1249     0.0760    -1.6433     0.1009     -0.2742      0.0244\n",
      "d87           -0.0841     0.0940    -0.8944     0.3715     -0.2687      0.1006\n",
      "lprbarr       -0.3275     0.0300    -10.924     0.0000     -0.3864     -0.2686\n",
      "lprbconv      -0.2381     0.0182    -13.058     0.0000     -0.2739     -0.2023\n",
      "lprbpris      -0.1650     0.0260    -6.3555     0.0000     -0.2161     -0.1140\n",
      "lavgsen       -0.0218     0.0221    -0.9850     0.3251     -0.0652      0.0216\n",
      "lpolpc         0.3984     0.0269     14.821     0.0000      0.3456      0.4512\n",
      "==============================================================================\n",
      "\n"
     ]
    }
   ],
   "source": [
    "import wooldridge as woo\n",
    "import numpy as np\n",
    "import linearmodels as plm\n",
    "\n",
    "crime4 = woo.dataWoo('crime4')\n",
    "crime4 = crime4.set_index(['county', 'year'], drop=False)\n",
    "\n",
    "# estimate FD model:\n",
    "reg = plm.FirstDifferenceOLS.from_formula(\n",
    "    formula='np.log(crmrte) ~ year + d83 + d84 + d85 + d86 + d87 +'\n",
    "            'lprbarr + lprbconv + lprbpris + lavgsen + lpolpc',\n",
    "    data=crime4)\n",
    "results = reg.fit()\n",
    "print(f'results: \\n{results}\\n')\n"
   ]
  },
  {
   "cell_type": "markdown",
   "metadata": {},
   "source": [
    "# 4)Fixed Effects Estimation\n",
    "## Example: Has the Return to Education Changed over Time?"
   ]
  },
  {
   "cell_type": "code",
   "execution_count": 4,
   "metadata": {},
   "outputs": [
    {
     "name": "stdout",
     "output_type": "stream",
     "text": [
      "table: \n",
      "                           b      se        t    pval\n",
      "C(year)[1980]         1.3625  0.0162  83.9031  0.0000\n",
      "C(year)[1981]         1.3400  0.1452   9.2307  0.0000\n",
      "C(year)[1982]         1.3567  0.1451   9.3481  0.0000\n",
      "C(year)[1983]         1.3729  0.1452   9.4561  0.0000\n",
      "C(year)[1984]         1.4468  0.1452   9.9617  0.0000\n",
      "C(year)[1985]         1.4122  0.1451   9.7315  0.0000\n",
      "C(year)[1986]         1.4281  0.1451   9.8404  0.0000\n",
      "C(year)[1987]         1.4529  0.1452  10.0061  0.0000\n",
      "married               0.0548  0.0184   2.9773  0.0029\n",
      "union                 0.0830  0.0194   4.2671  0.0000\n",
      "C(year)[T.1981]:educ  0.0116  0.0123   0.9448  0.3448\n",
      "C(year)[T.1982]:educ  0.0148  0.0123   1.2061  0.2279\n",
      "C(year)[T.1983]:educ  0.0171  0.0123   1.3959  0.1628\n",
      "C(year)[T.1984]:educ  0.0166  0.0123   1.3521  0.1764\n",
      "C(year)[T.1985]:educ  0.0237  0.0123   1.9316  0.0535\n",
      "C(year)[T.1986]:educ  0.0274  0.0123   2.2334  0.0256\n",
      "C(year)[T.1987]:educ  0.0304  0.0123   2.4798  0.0132\n",
      "\n"
     ]
    },
    {
     "name": "stderr",
     "output_type": "stream",
     "text": [
      "/Users/randallr.rojas/anaconda2/lib/python3.8/site-packages/linearmodels/panel/model.py:1796: AbsorbingEffectWarning: \n",
      "Variables have been fully absorbed and have removed from the regression:\n",
      "\n",
      "educ\n",
      "\n",
      "  warnings.warn(\n"
     ]
    }
   ],
   "source": [
    "import wooldridge as woo\n",
    "import pandas as pd\n",
    "import linearmodels as plm\n",
    "\n",
    "wagepan = woo.dataWoo('wagepan')\n",
    "wagepan = wagepan.set_index(['nr', 'year'], drop=False)\n",
    "\n",
    "# FE model estimation:\n",
    "reg = plm.PanelOLS.from_formula(\n",
    "    formula='lwage ~ married + union + C(year)*educ + EntityEffects',\n",
    "    data=wagepan, drop_absorbed=True)\n",
    "results = reg.fit()\n",
    "\n",
    "# print regression table:\n",
    "table = pd.DataFrame({'b': round(results.params, 4),\n",
    "                      'se': round(results.std_errors, 4),\n",
    "                      't': round(results.tstats, 4),\n",
    "                      'pval': round(results.pvalues, 4)})\n",
    "print(f'table: \\n{table}\\n')"
   ]
  },
  {
   "cell_type": "markdown",
   "metadata": {},
   "source": [
    "#  5) Panel Data Inspection\n",
    "## Example: Wage Equation"
   ]
  },
  {
   "cell_type": "code",
   "execution_count": 6,
   "metadata": {},
   "outputs": [
    {
     "name": "stdout",
     "output_type": "stream",
     "text": [
      "N: 4360\n",
      "\n",
      "T: 8\n",
      "\n",
      "n: 545\n",
      "\n",
      "isv_nr.columns[noVar_nr]: \n",
      "Index(['black', 'hisp', 'educ'], dtype='object')\n",
      "\n",
      "isv_t.columns[noVar_t]: \n",
      "Index(['d81', 'd82', 'd83', 'd84', 'd85', 'd86', 'd87'], dtype='object')\n",
      "\n"
     ]
    }
   ],
   "source": [
    "import wooldridge as woo\n",
    "\n",
    "wagepan = woo.dataWoo('wagepan')\n",
    "\n",
    "# print relevant dimensions for panel:\n",
    "N = wagepan.shape[0]\n",
    "T = wagepan['year'].drop_duplicates().shape[0]\n",
    "n = wagepan['nr'].drop_duplicates().shape[0]\n",
    "print(f'N: {N}\\n')\n",
    "print(f'T: {T}\\n')\n",
    "print(f'n: {n}\\n')\n",
    "\n",
    "# check non-varying variables\n",
    "\n",
    "# (I) across time and within individuals by calculating individual\n",
    "# specific variances for each variable:\n",
    "isv_nr = (wagepan.groupby('nr').var() == 0)  # True, if variance is zero\n",
    "# choose variables where all grouped variances are zero:\n",
    "noVar_nr = isv_nr.all(axis=0)  # which cols are completely True\n",
    "print(f'isv_nr.columns[noVar_nr]: \\n{isv_nr.columns[noVar_nr]}\\n')\n",
    "\n",
    "# (II) across individuals within one point in time for each variable:\n",
    "isv_t = (wagepan.groupby('year').var() == 0)\n",
    "noVar_t = isv_t.all(axis=0)\n",
    "print(f'isv_t.columns[noVar_t]: \\n{isv_t.columns[noVar_t]}\\n')\n"
   ]
  },
  {
   "cell_type": "markdown",
   "metadata": {},
   "source": [
    "# 6) Pooled, Fixed and Random Effects Comparison\n",
    "## Example: Wage Equation"
   ]
  },
  {
   "cell_type": "code",
   "execution_count": 7,
   "metadata": {},
   "outputs": [
    {
     "name": "stdout",
     "output_type": "stream",
     "text": [
      "theta_hat: 0.6450593029243452\n",
      "\n",
      "table_ols: \n",
      "                    b      se        t    pval\n",
      "C(year)[1980]  0.0921  0.0783   1.1761  0.2396\n",
      "C(year)[1981]  0.1504  0.0838   1.7935  0.0730\n",
      "C(year)[1982]  0.1548  0.0893   1.7335  0.0831\n",
      "C(year)[1983]  0.1541  0.0944   1.6323  0.1027\n",
      "C(year)[1984]  0.1825  0.0990   1.8437  0.0653\n",
      "C(year)[1985]  0.2013  0.1031   1.9523  0.0510\n",
      "C(year)[1986]  0.2340  0.1068   2.1920  0.0284\n",
      "C(year)[1987]  0.2659  0.1100   2.4166  0.0157\n",
      "educ           0.0913  0.0052  17.4419  0.0000\n",
      "black         -0.1392  0.0236  -5.9049  0.0000\n",
      "hisp           0.0160  0.0208   0.7703  0.4412\n",
      "exper          0.0672  0.0137   4.9095  0.0000\n",
      "I(exper ** 2) -0.0024  0.0008  -2.9413  0.0033\n",
      "married        0.1083  0.0157   6.8997  0.0000\n",
      "union          0.1825  0.0172  10.6349  0.0000\n",
      "\n",
      "table_re: \n",
      "                    b      se       t    pval\n",
      "C(year)[1980]  0.0234  0.1514  0.1546  0.8771\n",
      "C(year)[1981]  0.0638  0.1601  0.3988  0.6901\n",
      "C(year)[1982]  0.0543  0.1690  0.3211  0.7481\n",
      "C(year)[1983]  0.0436  0.1780  0.2450  0.8065\n",
      "C(year)[1984]  0.0664  0.1871  0.3551  0.7225\n",
      "C(year)[1985]  0.0811  0.1961  0.4136  0.6792\n",
      "C(year)[1986]  0.1152  0.2052  0.5617  0.5744\n",
      "C(year)[1987]  0.1583  0.2143  0.7386  0.4602\n",
      "educ           0.0919  0.0107  8.5744  0.0000\n",
      "black         -0.1394  0.0480 -2.9054  0.0037\n",
      "hisp           0.0217  0.0428  0.5078  0.6116\n",
      "exper          0.1058  0.0154  6.8706  0.0000\n",
      "I(exper ** 2) -0.0047  0.0007 -6.8623  0.0000\n",
      "married        0.0638  0.0168  3.8035  0.0001\n",
      "union          0.1059  0.0179  5.9289  0.0000\n",
      "\n",
      "table_fe: \n",
      "                    b      se        t    pval\n",
      "C(year)[1980]  1.4260  0.0183  77.7484  0.0000\n",
      "C(year)[1981]  1.5772  0.0216  72.9656  0.0000\n",
      "C(year)[1982]  1.6790  0.0265  63.2583  0.0000\n",
      "C(year)[1983]  1.7805  0.0333  53.4392  0.0000\n",
      "C(year)[1984]  1.9161  0.0417  45.9816  0.0000\n",
      "C(year)[1985]  2.0435  0.0515  39.6460  0.0000\n",
      "C(year)[1986]  2.1915  0.0630  34.7714  0.0000\n",
      "C(year)[1987]  2.3510  0.0762  30.8669  0.0000\n",
      "I(exper ** 2) -0.0052  0.0007  -7.3612  0.0000\n",
      "married        0.0467  0.0183   2.5494  0.0108\n",
      "union          0.0800  0.0193   4.1430  0.0000\n",
      "\n"
     ]
    }
   ],
   "source": [
    "import wooldridge as woo\n",
    "import pandas as pd\n",
    "import linearmodels as plm\n",
    "\n",
    "wagepan = woo.dataWoo('wagepan')\n",
    "\n",
    "# estimate different models:\n",
    "wagepan = wagepan.set_index(['nr', 'year'], drop=False)\n",
    "\n",
    "reg_ols = plm.PooledOLS.from_formula(\n",
    "    formula='lwage ~ educ + black + hisp + exper + I(exper**2) +'\n",
    "            'married + union + C(year)', data=wagepan)\n",
    "results_ols = reg_ols.fit()\n",
    "\n",
    "reg_re = plm.RandomEffects.from_formula(\n",
    "    formula='lwage ~ educ + black + hisp + exper + I(exper**2) +'\n",
    "            'married + union + C(year)', data=wagepan)\n",
    "results_re = reg_re.fit()\n",
    "\n",
    "reg_fe = plm.PanelOLS.from_formula(\n",
    "    formula='lwage ~ I(exper**2) + married + union +'\n",
    "            'C(year) + EntityEffects', data=wagepan)\n",
    "results_fe = reg_fe.fit()\n",
    "\n",
    "# print results:\n",
    "theta_hat = results_re.theta.iloc[0, 0]\n",
    "print(f'theta_hat: {theta_hat}\\n')\n",
    "\n",
    "table_ols = pd.DataFrame({'b': round(results_ols.params, 4),\n",
    "                          'se': round(results_ols.std_errors, 4),\n",
    "                          't': round(results_ols.tstats, 4),\n",
    "                          'pval': round(results_ols.pvalues, 4)})\n",
    "print(f'table_ols: \\n{table_ols}\\n')\n",
    "\n",
    "table_re = pd.DataFrame({'b': round(results_re.params, 4),\n",
    "                         'se': round(results_re.std_errors, 4),\n",
    "                         't': round(results_re.tstats, 4),\n",
    "                         'pval': round(results_re.pvalues, 4)})\n",
    "print(f'table_re: \\n{table_re}\\n')\n",
    "\n",
    "table_fe = pd.DataFrame({'b': round(results_fe.params, 4),\n",
    "                         'se': round(results_fe.std_errors, 4),\n",
    "                         't': round(results_fe.tstats, 4),\n",
    "                         'pval': round(results_fe.pvalues, 4)})\n",
    "print(f'table_fe: \\n{table_fe}\\n')\n"
   ]
  },
  {
   "cell_type": "markdown",
   "metadata": {},
   "source": [
    "# 7) Correlated Random Effects\n",
    "## Example: Wage Equation"
   ]
  },
  {
   "cell_type": "code",
   "execution_count": 8,
   "metadata": {},
   "outputs": [
    {
     "name": "stderr",
     "output_type": "stream",
     "text": [
      "/Users/randallr.rojas/anaconda2/lib/python3.8/site-packages/linearmodels/panel/model.py:1796: AbsorbingEffectWarning: \n",
      "Variables have been fully absorbed and have removed from the regression:\n",
      "\n",
      "educ\n",
      "\n",
      "  warnings.warn(\n"
     ]
    },
    {
     "name": "stdout",
     "output_type": "stream",
     "text": [
      "table: \n",
      "                     b_we   b_dum   b_cre    b_re\n",
      "married            0.0548  0.0548  0.0548  0.0773\n",
      "union              0.0830  0.0830  0.0830  0.1075\n",
      "C(t)[T.1982]:educ  0.0148  0.0148  0.0148  0.0143\n",
      "\n",
      "wtest: \n",
      "Linear Equality Hypothesis Test\n",
      "H0: Linear equality constraint is valid\n",
      "Statistic: 19.4058\n",
      "P-value: 0.0001\n",
      "Distributed: chi2(2)\n",
      "\n"
     ]
    }
   ],
   "source": [
    "import wooldridge as woo\n",
    "import pandas as pd\n",
    "import statsmodels.formula.api as smf\n",
    "import linearmodels as plm\n",
    "\n",
    "wagepan = woo.dataWoo('wagepan')\n",
    "wagepan['t'] = wagepan['year']\n",
    "wagepan['entity'] = wagepan['nr']\n",
    "wagepan = wagepan.set_index(['nr'])\n",
    "\n",
    "# include group specific means:\n",
    "wagepan['married_b'] = wagepan.groupby('nr').mean()['married']\n",
    "wagepan['union_b'] = wagepan.groupby('nr').mean()['union']\n",
    "wagepan = wagepan.set_index(['year'], append=True)\n",
    "\n",
    "# estimate FE parameters in 3 different ways:\n",
    "reg_we = plm.PanelOLS.from_formula(\n",
    "    formula='lwage ~ married + union + C(t)*educ + EntityEffects',\n",
    "    drop_absorbed=True, data=wagepan)\n",
    "results_we = reg_we.fit()\n",
    "\n",
    "reg_dum = smf.ols(\n",
    "    formula='lwage ~ married + union + C(t)*educ + C(entity)',\n",
    "    data=wagepan)\n",
    "results_dum = reg_dum.fit()\n",
    "\n",
    "# estimate CRE:\n",
    "reg_cre = plm.RandomEffects.from_formula(\n",
    "    formula='lwage ~ married + union + C(t)*educ + married_b + union_b',\n",
    "    data=wagepan)\n",
    "results_cre = reg_cre.fit()\n",
    "\n",
    "# compare to RE estimates:\n",
    "reg_re = plm.RandomEffects.from_formula(\n",
    "    formula='lwage ~ married + union + C(t)*educ',\n",
    "    data=wagepan)\n",
    "results_re = reg_re.fit()\n",
    "\n",
    "var_selection = ['married', 'union', 'C(t)[T.1982]:educ']\n",
    "\n",
    "# print results:\n",
    "table = pd.DataFrame({'b_we': round(results_we.params[var_selection], 4),\n",
    "                      'b_dum': round(results_dum.params[var_selection], 4),\n",
    "                      'b_cre': round(results_cre.params[var_selection], 4),\n",
    "                      'b_re': round(results_re.params[var_selection], 4)})\n",
    "print(f'table: \\n{table}\\n')\n",
    "\n",
    "# CRE Test:\n",
    "\n",
    "# RE test as an Wald test on the CRE specific coefficients:\n",
    "wtest = results_cre.wald_test(formula='married_b = union_b = 0')\n",
    "print(f'wtest: \\n{wtest}\\n')"
   ]
  },
  {
   "cell_type": "code",
   "execution_count": 9,
   "metadata": {},
   "outputs": [],
   "source": [
    "# 8) Robust (Clustered) Standard Errors\n",
    "## Example: Wage Equation"
   ]
  },
  {
   "cell_type": "code",
   "execution_count": 10,
   "metadata": {},
   "outputs": [
    {
     "name": "stdout",
     "output_type": "stream",
     "text": [
      "table: \n",
      "               b  se_default  se_cluster  se_css\n",
      "year      0.0077      0.0171      0.0136  0.0137\n",
      "d83      -0.0999      0.0239      0.0219  0.0222\n",
      "d84      -0.1478      0.0413      0.0356  0.0359\n",
      "d85      -0.1524      0.0584      0.0505  0.0511\n",
      "d86      -0.1249      0.0760      0.0624  0.0630\n",
      "d87      -0.0841      0.0940      0.0773  0.0781\n",
      "lprbarr  -0.3275      0.0300      0.0556  0.0562\n",
      "lprbconv -0.2381      0.0182      0.0390  0.0394\n",
      "lprbpris -0.1650      0.0260      0.0451  0.0456\n",
      "lavgsen  -0.0218      0.0221      0.0254  0.0257\n",
      "lpolpc    0.3984      0.0269      0.1014  0.1025\n",
      "\n"
     ]
    }
   ],
   "source": [
    "import wooldridge as woo\n",
    "import numpy as np\n",
    "import pandas as pd\n",
    "import linearmodels as plm\n",
    "\n",
    "crime4 = woo.dataWoo('crime4')\n",
    "crime4 = crime4.set_index(['county', 'year'], drop=False)\n",
    "\n",
    "# estimate FD model:\n",
    "reg = plm.FirstDifferenceOLS.from_formula(\n",
    "    formula='np.log(crmrte) ~ year + d83 + d84 + d85 + d86 + d87 +'\n",
    "            'lprbarr + lprbconv + lprbpris + lavgsen + lpolpc',\n",
    "    data=crime4)\n",
    "\n",
    "# regression with standard SE:\n",
    "results_default = reg.fit()\n",
    "\n",
    "# regression with \"clustered\" SE:\n",
    "results_cluster = reg.fit(cov_type='clustered', cluster_entity=True,\n",
    "                          debiased=False)\n",
    "\n",
    "# regression with \"clustered\" SE (small-sample correction):\n",
    "results_css = reg.fit(cov_type='clustered', cluster_entity=True)\n",
    "\n",
    "# print results:\n",
    "table = pd.DataFrame({'b': round(results_default.params, 4),\n",
    "                      'se_default': round(results_default.std_errors, 4),\n",
    "                      'se_cluster': round(results_cluster.std_errors, 4),\n",
    "                      'se_css': round(results_css.std_errors, 4)})\n",
    "print(f'table: \\n{table}\\n')"
   ]
  },
  {
   "cell_type": "markdown",
   "metadata": {},
   "source": [
    "# 9) Hausman Test\n",
    "## Example: Wage Equation"
   ]
  },
  {
   "cell_type": "code",
   "execution_count": 11,
   "metadata": {},
   "outputs": [
    {
     "name": "stdout",
     "output_type": "stream",
     "text": [
      "stat: 43.42707117638294\n",
      "\n",
      "pval: 9.1506138486519e-06\n",
      "\n"
     ]
    }
   ],
   "source": [
    "import wooldridge as woo\n",
    "import numpy as np\n",
    "import linearmodels as plm\n",
    "import scipy.stats as stats\n",
    "\n",
    "wagepan = woo.dataWoo('wagepan')\n",
    "wagepan = wagepan.set_index(['nr', 'year'], drop=False)\n",
    "\n",
    "# estimation of FE and RE:\n",
    "reg_fe = plm.PanelOLS.from_formula(formula='lwage ~ I(exper**2) + married +'\n",
    "                                           'union + C(year) + EntityEffects',\n",
    "                                   data=wagepan)\n",
    "results_fe = reg_fe.fit()\n",
    "b_fe = results_fe.params\n",
    "b_fe_cov = results_fe.cov\n",
    "\n",
    "reg_re = plm.RandomEffects.from_formula(\n",
    "    formula='lwage ~ educ + black + hisp + exper + I(exper**2)'\n",
    "            '+ married + union + C(year)', data=wagepan)\n",
    "results_re = reg_re.fit()\n",
    "b_re = results_re.params\n",
    "b_re_cov = results_re.cov\n",
    "\n",
    "# Hausman test of FE vs. RE\n",
    "# (I) find overlapping coefficients:\n",
    "common_coef = set(results_fe.params.index).intersection(results_re.params.index)\n",
    "\n",
    "# (II) calculate differences between FE and RE:\n",
    "b_diff = np.array(results_fe.params[common_coef] - results_re.params[common_coef])\n",
    "df = len(b_diff)\n",
    "b_diff.reshape((df, 1))\n",
    "b_cov_diff = np.array(b_fe_cov.loc[common_coef, common_coef] -\n",
    "                      b_re_cov.loc[common_coef, common_coef])\n",
    "b_cov_diff.reshape((df, df))\n",
    "\n",
    "# (III) calculate test statistic:\n",
    "stat = abs(np.transpose(b_diff) @ np.linalg.inv(b_cov_diff) @ b_diff)\n",
    "pval = 1 - stats.chi2.cdf(stat, df)\n",
    "\n",
    "print(f'stat: {stat}\\n')\n",
    "print(f'pval: {pval}\\n')"
   ]
  },
  {
   "cell_type": "code",
   "execution_count": null,
   "metadata": {},
   "outputs": [],
   "source": []
  }
 ],
 "metadata": {
  "kernelspec": {
   "display_name": "Python 3 (ipykernel)",
   "language": "python",
   "name": "python3"
  },
  "language_info": {
   "codemirror_mode": {
    "name": "ipython",
    "version": 3
   },
   "file_extension": ".py",
   "mimetype": "text/x-python",
   "name": "python",
   "nbconvert_exporter": "python",
   "pygments_lexer": "ipython3",
   "version": "3.8.5"
  },
  "latex_envs": {
   "LaTeX_envs_menu_present": true,
   "autoclose": false,
   "autocomplete": true,
   "bibliofile": "biblio.bib",
   "cite_by": "apalike",
   "current_citInitial": 1,
   "eqLabelWithNumbers": true,
   "eqNumInitial": 1,
   "hotkeys": {
    "equation": "Ctrl-E",
    "itemize": "Ctrl-I"
   },
   "labels_anchors": false,
   "latex_user_defs": false,
   "report_style_numbering": false,
   "user_envs_cfg": false
  },
  "varInspector": {
   "cols": {
    "lenName": 16,
    "lenType": 16,
    "lenVar": 40
   },
   "kernels_config": {
    "python": {
     "delete_cmd_postfix": "",
     "delete_cmd_prefix": "del ",
     "library": "var_list.py",
     "varRefreshCmd": "print(var_dic_list())"
    },
    "r": {
     "delete_cmd_postfix": ") ",
     "delete_cmd_prefix": "rm(",
     "library": "var_list.r",
     "varRefreshCmd": "cat(var_dic_list()) "
    }
   },
   "types_to_exclude": [
    "module",
    "function",
    "builtin_function_or_method",
    "instance",
    "_Feature"
   ],
   "window_display": false
  }
 },
 "nbformat": 4,
 "nbformat_minor": 4
}
