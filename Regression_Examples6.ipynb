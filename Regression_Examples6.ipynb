{
 "cells": [
  {
   "cell_type": "markdown",
   "metadata": {},
   "source": [
    "## Econ 430\n",
    "### UCLA, Master of Quantitative Economics\n",
    "#### Dr. Randall R. Rojas\n",
    "Note: For more details on the codes, please see our textbook; Using Python for Introductory Econometrics by F. Heiss & D. Brunner."
   ]
  },
  {
   "cell_type": "markdown",
   "metadata": {},
   "source": [
    "# Qualitative and Limited Dependent Variable Models"
   ]
  },
  {
   "cell_type": "markdown",
   "metadata": {},
   "source": [
    "# 1) Linear Probability Model\n",
    "## Example: Married Women's Labor Force Participation "
   ]
  },
  {
   "cell_type": "code",
   "execution_count": 1,
   "metadata": {},
   "outputs": [
    {
     "name": "stdout",
     "output_type": "stream",
     "text": [
      "table: \n",
      "                    b      se       t    pval\n",
      "Intercept      0.5855  0.1536  3.8125  0.0001\n",
      "nwifeinc      -0.0034  0.0016 -2.1852  0.0289\n",
      "educ           0.0380  0.0073  5.1766  0.0000\n",
      "exper          0.0395  0.0060  6.6001  0.0000\n",
      "I(exper ** 2) -0.0006  0.0002 -2.9973  0.0027\n",
      "age           -0.0161  0.0024 -6.6640  0.0000\n",
      "kidslt6       -0.2618  0.0322 -8.1430  0.0000\n",
      "kidsge6        0.0130  0.0137  0.9526  0.3408\n",
      "\n",
      "predictions: \n",
      "0   -0.410458\n",
      "1    1.042808\n",
      "dtype: float64\n",
      "\n"
     ]
    }
   ],
   "source": [
    "import wooldridge as woo\n",
    "import pandas as pd\n",
    "import statsmodels.formula.api as smf\n",
    "import matplotlib.pyplot as plt\n",
    "mroz = woo.dataWoo('mroz')\n",
    "\n",
    "# y = 1 (woman in the labor force), = 0 (otherwise)\n",
    "# Estimate a linear probability model:\n",
    "reg_lin = smf.ols(formula='inlf ~ nwifeinc + educ + exper +'\n",
    "                          'I(exper**2) + age + kidslt6 + kidsge6',\n",
    "                  data=mroz)\n",
    "results_lin = reg_lin.fit(cov_type='HC3')\n",
    "\n",
    "# Print regression table:\n",
    "table = pd.DataFrame({'b': round(results_lin.params, 4),\n",
    "                      'se': round(results_lin.bse, 4),\n",
    "                      't': round(results_lin.tvalues, 4),\n",
    "                      'pval': round(results_lin.pvalues, 4)})\n",
    "print(f'table: \\n{table}\\n')\n",
    "\n",
    "# We can check the y_hat values for two \"extreme\" cases:\n",
    "# Recall that for this model y_hat may be outside [0, 1], \n",
    "#  which inn theory can't happen\n",
    "\n",
    "X_new = pd.DataFrame(\n",
    "    {'nwifeinc': [100, 0], 'educ': [5, 17],\n",
    "     'exper': [0, 30], 'age': [20, 52],\n",
    "     'kidslt6': [2, 0], 'kidsge6': [0, 0]})\n",
    "predictions = results_lin.predict(X_new)\n",
    "\n",
    "print(f'predictions: \\n{predictions}\\n')"
   ]
  },
  {
   "cell_type": "markdown",
   "metadata": {},
   "source": [
    "# 2) Probit Model\n",
    "## Example: Married Women's Labor Force Participation"
   ]
  },
  {
   "cell_type": "code",
   "execution_count": 2,
   "metadata": {},
   "outputs": [
    {
     "name": "stdout",
     "output_type": "stream",
     "text": [
      "results_probit.summary(): \n",
      "                          Probit Regression Results                           \n",
      "==============================================================================\n",
      "Dep. Variable:                   inlf   No. Observations:                  753\n",
      "Model:                         Probit   Df Residuals:                      745\n",
      "Method:                           MLE   Df Model:                            7\n",
      "Date:                Sun, 07 Nov 2021   Pseudo R-squ.:                  0.2206\n",
      "Time:                        15:24:00   Log-Likelihood:                -401.30\n",
      "converged:                       True   LL-Null:                       -514.87\n",
      "Covariance Type:            nonrobust   LLR p-value:                 2.009e-45\n",
      "=================================================================================\n",
      "                    coef    std err          z      P>|z|      [0.025      0.975]\n",
      "---------------------------------------------------------------------------------\n",
      "Intercept         0.2701      0.509      0.531      0.595      -0.727       1.267\n",
      "nwifeinc         -0.0120      0.005     -2.484      0.013      -0.022      -0.003\n",
      "educ              0.1309      0.025      5.183      0.000       0.081       0.180\n",
      "exper             0.1233      0.019      6.590      0.000       0.087       0.160\n",
      "I(exper ** 2)    -0.0019      0.001     -3.145      0.002      -0.003      -0.001\n",
      "age              -0.0529      0.008     -6.235      0.000      -0.069      -0.036\n",
      "kidslt6          -0.8683      0.119     -7.326      0.000      -1.101      -0.636\n",
      "kidsge6           0.0360      0.043      0.828      0.408      -0.049       0.121\n",
      "=================================================================================\n",
      "\n",
      "results_probit.llf: -401.30219317389515\n",
      "\n",
      "results_probit.prsquared: 0.2205805437252938\n",
      "\n"
     ]
    }
   ],
   "source": [
    "import wooldridge as woo\n",
    "import statsmodels.formula.api as smf\n",
    "\n",
    "mroz = woo.dataWoo('mroz')\n",
    "\n",
    "# Estimate a probit model:\n",
    "reg_probit = smf.probit(formula='inlf ~ nwifeinc + educ + exper +'\n",
    "                                'I(exper**2) + age + kidslt6 + kidsge6',\n",
    "                        data=mroz)\n",
    "results_probit = reg_probit.fit(disp=0)\n",
    "print(f'results_probit.summary(): \\n{results_probit.summary()}\\n')\n",
    "\n",
    "# log likelihood value:\n",
    "print(f'results_probit.llf: {results_probit.llf}\\n')\n",
    "\n",
    "# McFadden's pseudo R2:\n",
    "print(f'results_probit.prsquared: {results_probit.prsquared}\\n')"
   ]
  },
  {
   "cell_type": "markdown",
   "metadata": {},
   "source": [
    "# 3) Logit Model\n",
    "## Example: Married Women's Labor Force Participation"
   ]
  },
  {
   "cell_type": "code",
   "execution_count": 9,
   "metadata": {},
   "outputs": [
    {
     "name": "stdout",
     "output_type": "stream",
     "text": [
      "results_logit.summary(): \n",
      "                           Logit Regression Results                           \n",
      "==============================================================================\n",
      "Dep. Variable:                   inlf   No. Observations:                  753\n",
      "Model:                          Logit   Df Residuals:                      746\n",
      "Method:                           MLE   Df Model:                            6\n",
      "Date:                Tue, 29 Nov 2022   Pseudo R-squ.:                  0.2112\n",
      "Time:                        20:40:20   Log-Likelihood:                -406.14\n",
      "converged:                       True   LL-Null:                       -514.87\n",
      "Covariance Type:            nonrobust   LLR p-value:                 3.621e-44\n",
      "==============================================================================\n",
      "                 coef    std err          z      P>|z|      [0.025      0.975]\n",
      "------------------------------------------------------------------------------\n",
      "Intercept      0.8379      0.841      0.996      0.319      -0.810       2.486\n",
      "nwifeinc      -0.0202      0.008     -2.446      0.014      -0.036      -0.004\n",
      "educ           0.2270      0.043      5.243      0.000       0.142       0.312\n",
      "exper          0.1197      0.014      8.788      0.000       0.093       0.146\n",
      "age           -0.0911      0.014     -6.361      0.000      -0.119      -0.063\n",
      "kidslt6       -1.4394      0.201     -7.143      0.000      -1.834      -1.044\n",
      "kidsge6        0.0582      0.073      0.793      0.428      -0.086       0.202\n",
      "==============================================================================\n",
      "\n",
      "results_logit.llf: -406.1431840756075\n",
      "\n",
      "results_logit.prsquared: 0.2111782464932087\n",
      "\n"
     ]
    }
   ],
   "source": [
    "import wooldridge as woo\n",
    "import statsmodels.formula.api as smf\n",
    "\n",
    "mroz = woo.dataWoo('mroz')\n",
    "\n",
    "# Estimate a logit model:\n",
    "#reg_logit = smf.logit(formula='inlf ~ nwifeinc + educ + exper +I(exper**2) + age + kidslt6 + kidsge6', data=mroz)\n",
    "reg_logit = smf.logit(formula='inlf ~ nwifeinc + educ + exper  + age + kidslt6 + kidsge6', data=mroz)\n",
    "\n",
    "# disp = 0 avoids printing out information during the estimation:\n",
    "results_logit = reg_logit.fit(disp=0)\n",
    "print(f'results_logit.summary(): \\n{results_logit.summary()}\\n')\n",
    "\n",
    "# log likelihood value:\n",
    "print(f'results_logit.llf: {results_logit.llf}\\n')\n",
    "\n",
    "# McFadden's pseudo R2:\n",
    "print(f'results_logit.prsquared: {results_logit.prsquared}\\n')"
   ]
  },
  {
   "cell_type": "markdown",
   "metadata": {},
   "source": [
    "### Confusion Matrix and Other Classification Metrics"
   ]
  },
  {
   "cell_type": "code",
   "execution_count": 18,
   "metadata": {},
   "outputs": [
    {
     "name": "stdout",
     "output_type": "stream",
     "text": [
      "[[211 114]\n",
      " [ 82 346]]\n",
      "Accuracy = 0.7397078353253652\n"
     ]
    },
    {
     "data": {
      "image/png": "[encoded data removed]",
      "text/plain": [
       "<Figure size 144x144 with 1 Axes>"
      ]
     },
     "metadata": {
      "needs_background": "light"
     },
     "output_type": "display_data"
    },
    {
     "name": "stdout",
     "output_type": "stream",
     "text": [
      "              precision    recall  f1-score   support\n",
      "\n",
      "           0      0.720     0.649     0.683       325\n",
      "           1      0.752     0.808     0.779       428\n",
      "\n",
      "    accuracy                          0.740       753\n",
      "   macro avg      0.736     0.729     0.731       753\n",
      "weighted avg      0.738     0.740     0.738       753\n",
      "\n",
      "Accuracy = 0.7397078353253652\n",
      "Specificity =  0.6492307692307693\n",
      "Sensitivity =  0.8084112149532711\n"
     ]
    }
   ],
   "source": [
    "# Use sklearn library\n",
    "from sklearn.linear_model import LogisticRegression #problem will be solved with scikit\n",
    "from sklearn.metrics import accuracy_score\n",
    "from sklearn.metrics import confusion_matrix, classification_report, precision_score\n",
    "import matplotlib.pyplot as plt\n",
    "X_cols = ['nwifeinc','educ','exper', 'age','kidslt6', 'kidsge6'] \n",
    "lr = LogisticRegression()\n",
    "logit_mod = lr.fit(mroz[X_cols], mroz['inlf'])\n",
    "conf_mat = confusion_matrix(mroz['inlf'], lr.predict(mroz[X_cols]))\n",
    "print(conf_mat) \n",
    "print('Accuracy =', lr.score(mroz[X_cols],mroz['inlf']))\n",
    "\n",
    "# Confusion matrix plot Raschka (2014)\n",
    "fig, ax = plt.subplots(figsize=(2, 2))\n",
    "ax.matshow(conf_mat, cmap=plt.cm.Reds, alpha=0.3)\n",
    "for i in range(conf_mat.shape[0]):\n",
    "    for j in range(conf_mat.shape[1]):\n",
    "        ax.text(x=j, y=i,\n",
    "        s=conf_mat[i, j],\n",
    "        va='center', ha='center')\n",
    "plt.xlabel('predicted label')\n",
    "plt.ylabel('true label')\n",
    "plt.show()\n",
    "\n",
    "# We can print other metrics\n",
    "print(classification_report(mroz['inlf'], lr.predict(mroz[X_cols]), digits=3))\n",
    "\n",
    "# TP = confusion[1,1] # true positive \n",
    "# TN = confusion[0,0] # true negatives\n",
    "# FP = confusion[0,1] # false positives\n",
    "# FN = confusion[1,0] # false negatives\n",
    "\n",
    "cm1 = confusion_matrix(mroz['inlf'], lr.predict(mroz[X_cols]))\n",
    "total1=sum(sum(cm1))\n",
    "Accuracy = (cm1[0,0]+cm1[1,1])/total1\n",
    "Specificity = cm1[0,0]/(cm1[0,0]+cm1[0,1])\n",
    "Sensitivity = cm1[1,1]/(cm1[1,0]+cm1[1,1])\n",
    "print('Accuracy =', Accuracy)\n",
    "print('Specificity = ', Specificity)\n",
    "print('Sensitivity = ', Sensitivity)"
   ]
  },
  {
   "cell_type": "markdown",
   "metadata": {},
   "source": [
    "# 4) Inferences (long way vs. short way)"
   ]
  },
  {
   "cell_type": "code",
   "execution_count": 4,
   "metadata": {},
   "outputs": [
    {
     "name": "stdout",
     "output_type": "stream",
     "text": [
      "llr1_manual: 227.14202283719237\n",
      "\n",
      "results_probit.llr: 227.14202283719237\n",
      "\n",
      "results_probit.llr_pvalue: 2.0086732957627125e-45\n",
      "\n",
      "teststat2_autom: [[110.91852003]]\n",
      "\n",
      "pval2_autom: 6.960738406733804e-24\n",
      "\n",
      "llr2_manual2: 127.03401014418034\n",
      "\n",
      "pval2_manual2: 0.0\n",
      "\n"
     ]
    }
   ],
   "source": [
    "import wooldridge as woo\n",
    "import statsmodels.formula.api as smf\n",
    "import scipy.stats as stats\n",
    "\n",
    "mroz = woo.dataWoo('mroz')\n",
    "\n",
    "# estimate probit model:\n",
    "reg_probit = smf.probit(formula='inlf ~ nwifeinc + educ + exper +'\n",
    "                                'I(exper**2) + age + kidslt6 + kidsge6',\n",
    "                        data=mroz)\n",
    "results_probit = reg_probit.fit(disp=0)\n",
    "\n",
    "# test of overall significance (test statistic and p-value):\n",
    "llr1_manual = 2 * (results_probit.llf - results_probit.llnull)\n",
    "print(f'llr1_manual: {llr1_manual}\\n')\n",
    "print(f'results_probit.llr: {results_probit.llr}\\n')\n",
    "print(f'results_probit.llr_pvalue: {results_probit.llr_pvalue}\\n')\n",
    "\n",
    "# automatic Wald test of H0 (experience and age are irrelevant):\n",
    "hypotheses = ['exper=0', 'I(exper ** 2)=0', 'age=0']\n",
    "waldstat = results_probit.wald_test(hypotheses)\n",
    "teststat2_autom = waldstat.statistic\n",
    "pval2_autom = waldstat.pvalue\n",
    "print(f'teststat2_autom: {teststat2_autom}\\n')\n",
    "print(f'pval2_autom: {pval2_autom}\\n')\n",
    "\n",
    "# manual likelihood ratio statistic test\n",
    "# of H0 (experience and age are irrelevant):\n",
    "reg_probit_restr = smf.probit(formula='inlf ~ nwifeinc + educ +'\n",
    "                                      'kidslt6 + kidsge6',\n",
    "                              data=mroz)\n",
    "results_probit_restr = reg_probit_restr.fit(disp=0)\n",
    "\n",
    "llr2_manual = 2 * (results_probit.llf - results_probit_restr.llf)\n",
    "pval2_manual = 1 - stats.chi2.cdf(llr2_manual, 3)\n",
    "print(f'llr2_manual2: {llr2_manual}\\n')\n",
    "print(f'pval2_manual2: {pval2_manual}\\n')"
   ]
  },
  {
   "cell_type": "markdown",
   "metadata": {},
   "source": [
    "# 5) Prediction Comparisons: Linear Model vs. Logit vs. Probit\n",
    "## Example: Married Women's Labor Force Participation\n",
    ">a. Estimates"
   ]
  },
  {
   "cell_type": "code",
   "execution_count": 5,
   "metadata": {},
   "outputs": [
    {
     "name": "stdout",
     "output_type": "stream",
     "text": [
      "predictions_lin: \n",
      "0   -0.410458\n",
      "1    1.042808\n",
      "dtype: float64\n",
      "\n",
      "predictions_logit: \n",
      "0    0.005218\n",
      "1    0.950049\n",
      "dtype: float64\n",
      "\n",
      "predictions_probit: \n",
      "0    0.001065\n",
      "1    0.959870\n",
      "dtype: float64\n",
      "\n"
     ]
    }
   ],
   "source": [
    "import wooldridge as woo\n",
    "import pandas as pd\n",
    "import statsmodels.formula.api as smf\n",
    "\n",
    "mroz = woo.dataWoo('mroz')\n",
    "\n",
    "# Estimate the models:\n",
    "\n",
    "# Linear\n",
    "reg_lin = smf.ols(formula='inlf ~ nwifeinc + educ + exper +'\n",
    "                          'I(exper**2) + age + kidslt6 + kidsge6',\n",
    "                  data=mroz)\n",
    "results_lin = reg_lin.fit(cov_type='HC3')\n",
    "\n",
    "# Logit\n",
    "reg_logit = smf.logit(formula='inlf ~ nwifeinc + educ + exper +'\n",
    "                              'I(exper**2) + age + kidslt6 + kidsge6',\n",
    "                      data=mroz)\n",
    "results_logit = reg_logit.fit(disp=0)\n",
    "\n",
    "# Probit\n",
    "reg_probit = smf.probit(formula='inlf ~ nwifeinc + educ + exper +'\n",
    "                                'I(exper**2) + age + kidslt6 + kidsge6',\n",
    "                        data=mroz)\n",
    "results_probit = reg_probit.fit(disp=0)\n",
    "\n",
    "# predictions for two \"extreme\" women:\n",
    "X_new = pd.DataFrame(\n",
    "    {'nwifeinc': [100, 0], 'educ': [5, 17],\n",
    "     'exper': [0, 30], 'age': [20, 52],\n",
    "     'kidslt6': [2, 0], 'kidsge6': [0, 0]})\n",
    "predictions_lin = results_lin.predict(X_new)\n",
    "predictions_logit = results_logit.predict(X_new)\n",
    "predictions_probit = results_probit.predict(X_new)\n",
    "\n",
    "print(f'predictions_lin: \\n{predictions_lin}\\n')\n",
    "print(f'predictions_logit: \\n{predictions_logit}\\n')\n",
    "print(f'predictions_probit: \\n{predictions_probit}\\n')"
   ]
  },
  {
   "cell_type": "markdown",
   "metadata": {},
   "source": [
    ">b. Plots of the predictions (simulated data)"
   ]
  },
  {
   "cell_type": "code",
   "execution_count": 6,
   "metadata": {},
   "outputs": [
    {
     "data": {
      "text/plain": [
       "<matplotlib.legend.Legend at 0x7f8c21f61a90>"
      ]
     },
     "execution_count": 6,
     "metadata": {},
     "output_type": "execute_result"
    },
    {
     "data": {
      "image/png": "[encoded data removed]",
      "text/plain": [
       "<Figure size 720x576 with 1 Axes>"
      ]
     },
     "metadata": {
      "needs_background": "light"
     },
     "output_type": "display_data"
    }
   ],
   "source": [
    "import pandas as pd\n",
    "import numpy as np\n",
    "import scipy.stats as stats\n",
    "import statsmodels.formula.api as smf\n",
    "import matplotlib.pyplot as plt\n",
    "\n",
    "# set the random seed:\n",
    "np.random.seed(1234567)\n",
    "\n",
    "y = stats.binom.rvs(1, 0.5, size=100)\n",
    "x = stats.norm.rvs(0, 1, size=100) + 2 * y\n",
    "sim_data = pd.DataFrame({'y': y, 'x': x})\n",
    "\n",
    "# estimation:\n",
    "reg_lin = smf.ols(formula='y ~ x', data=sim_data)\n",
    "results_lin = reg_lin.fit()\n",
    "reg_logit = smf.logit(formula='y ~ x', data=sim_data)\n",
    "results_logit = reg_logit.fit(disp=0)\n",
    "reg_probit = smf.probit(formula='y ~ x', data=sim_data)\n",
    "results_probit = reg_probit.fit(disp=0)\n",
    "\n",
    "# prediction for regular grid of x values:\n",
    "X_new = pd.DataFrame({'x': np.linspace(min(x), max(x), 50)})\n",
    "predictions_lin = results_lin.predict(X_new)\n",
    "predictions_logit = results_logit.predict(X_new)\n",
    "predictions_probit = results_probit.predict(X_new)\n",
    "\n",
    "# scatter plot and fitted values:\n",
    "fig, ax = plt.subplots(figsize=(10, 8))\n",
    "plt.plot(x, y, color='grey', marker='o', linestyle='')\n",
    "plt.plot(X_new['x'], predictions_lin,\n",
    "         color='black', linestyle='-.', label='linear')\n",
    "plt.plot(X_new['x'], predictions_logit,\n",
    "         color='blue', linestyle='-', linewidth=1, label='logit')\n",
    "plt.plot(X_new['x'], predictions_probit,\n",
    "         color='red', linestyle='--', label='probit')\n",
    "plt.ylabel('y')\n",
    "plt.xlabel('x')\n",
    "plt.legend()\n",
    "\n"
   ]
  },
  {
   "cell_type": "markdown",
   "metadata": {},
   "source": [
    "# 6) Marginal Effects\n",
    ">a. Plots"
   ]
  },
  {
   "cell_type": "code",
   "execution_count": 7,
   "metadata": {},
   "outputs": [
    {
     "data": {
      "text/plain": [
       "<matplotlib.legend.Legend at 0x7f8c23f89dc0>"
      ]
     },
     "execution_count": 7,
     "metadata": {},
     "output_type": "execute_result"
    },
    {
     "data": {
      "image/png": "[encoded data removed]",
      "text/plain": [
       "<Figure size 720x576 with 1 Axes>"
      ]
     },
     "metadata": {
      "needs_background": "light"
     },
     "output_type": "display_data"
    }
   ],
   "source": [
    "import pandas as pd\n",
    "import numpy as np\n",
    "import statsmodels.formula.api as smf\n",
    "import matplotlib.pyplot as plt\n",
    "import scipy.stats as stats\n",
    "\n",
    "# set the random seed:\n",
    "np.random.seed(1234567)\n",
    "\n",
    "y = stats.binom.rvs(1, 0.5, size=100)\n",
    "x = stats.norm.rvs(0, 1, size=100) + 2 * y\n",
    "sim_data = pd.DataFrame({'y': y, 'x': x})\n",
    "\n",
    "# estimation:\n",
    "reg_lin = smf.ols(formula='y ~ x', data=sim_data)\n",
    "results_lin = reg_lin.fit()\n",
    "reg_logit = smf.logit(formula='y ~ x', data=sim_data)\n",
    "results_logit = reg_logit.fit(disp=0)\n",
    "reg_probit = smf.probit(formula='y ~ x', data=sim_data)\n",
    "results_probit = reg_probit.fit(disp=0)\n",
    "\n",
    "# calculate partial effects:\n",
    "PE_lin = np.repeat(results_lin.params['x'], 100)\n",
    "\n",
    "xb_logit = results_logit.fittedvalues\n",
    "factor_logit = stats.logistic.pdf(xb_logit)\n",
    "PE_logit = results_logit.params['x'] * factor_logit\n",
    "\n",
    "xb_probit = results_probit.fittedvalues\n",
    "factor_probit = stats.norm.pdf(xb_probit)\n",
    "PE_probit = results_probit.params['x'] * factor_probit\n",
    "\n",
    "\n",
    "# plot APE's:\n",
    "fig, ax = plt.subplots(figsize=(10, 8))\n",
    "plt.plot(x, PE_lin, color='black',\n",
    "         marker='o', linestyle='', label='linear')\n",
    "plt.plot(x, PE_logit, color='blue',\n",
    "         marker='+', linestyle='', label='logit')\n",
    "plt.plot(x, PE_probit, color='red',\n",
    "         marker='*', linestyle='', label='probit')\n",
    "plt.ylabel('partial effects')\n",
    "plt.xlabel('x')\n",
    "plt.legend()\n"
   ]
  },
  {
   "cell_type": "markdown",
   "metadata": {},
   "source": [
    ">b. Estimates (Table)"
   ]
  },
  {
   "cell_type": "code",
   "execution_count": 8,
   "metadata": {},
   "outputs": [
    {
     "name": "stdout",
     "output_type": "stream",
     "text": [
      "table_manual: \n",
      "               APE_lin  APE_logit_manual  APE_probit_manual\n",
      "Intercept       0.5855            0.0760             0.0812\n",
      "nwifeinc       -0.0034           -0.0038            -0.0036\n",
      "educ            0.0380            0.0395             0.0394\n",
      "exper           0.0395            0.0368             0.0371\n",
      "I(exper ** 2)  -0.0006           -0.0006            -0.0006\n",
      "age            -0.0161           -0.0157            -0.0159\n",
      "kidslt6        -0.2618           -0.2578            -0.2612\n",
      "kidsge6         0.0130            0.0107             0.0108\n",
      "\n",
      "table_auto: \n",
      "      coef_names  APE_logit_autom  APE_probit_autom\n",
      "0       nwifeinc          -0.0038           -0.0036\n",
      "1           educ           0.0395            0.0394\n",
      "2          exper           0.0368            0.0371\n",
      "3  I(exper ** 2)          -0.0006           -0.0006\n",
      "4            age          -0.0157           -0.0159\n",
      "5        kidslt6          -0.2578           -0.2612\n",
      "6        kidsge6           0.0107            0.0108\n",
      "\n"
     ]
    }
   ],
   "source": [
    "# Example: Married Women's Labor Force Participation\n",
    "\n",
    "import wooldridge as woo\n",
    "import pandas as pd\n",
    "import numpy as np\n",
    "import statsmodels.formula.api as smf\n",
    "import scipy.stats as stats\n",
    "\n",
    "mroz = woo.dataWoo('mroz')\n",
    "\n",
    "# estimate models:\n",
    "reg_lin = smf.ols(formula='inlf ~ nwifeinc + educ + exper + I(exper**2) +'\n",
    "                          'age + kidslt6 + kidsge6', data=mroz)\n",
    "results_lin = reg_lin.fit(cov_type='HC3')\n",
    "\n",
    "reg_logit = smf.logit(formula='inlf ~ nwifeinc + educ + exper + I(exper**2) +'\n",
    "                              'age + kidslt6 + kidsge6', data=mroz)\n",
    "results_logit = reg_logit.fit(disp=0)\n",
    "\n",
    "reg_probit = smf.probit(formula='inlf ~ nwifeinc + educ + exper + I(exper**2) +'\n",
    "                                'age + kidslt6 + kidsge6', data=mroz)\n",
    "results_probit = reg_probit.fit(disp=0)\n",
    "\n",
    "# manual average partial effects:\n",
    "APE_lin = np.array(results_lin.params)\n",
    "\n",
    "xb_logit = results_logit.fittedvalues\n",
    "factor_logit = np.mean(stats.logistic.pdf(xb_logit))\n",
    "APE_logit_manual = results_logit.params * factor_logit\n",
    "\n",
    "xb_probit = results_probit.fittedvalues\n",
    "factor_probit = np.mean(stats.norm.pdf(xb_probit))\n",
    "APE_probit_manual = results_probit.params * factor_probit\n",
    "\n",
    "table_manual = pd.DataFrame({'APE_lin': np.round(APE_lin, 4),\n",
    "                             'APE_logit_manual': np.round(APE_logit_manual, 4),\n",
    "                             'APE_probit_manual': np.round(APE_probit_manual, 4)})\n",
    "print(f'table_manual: \\n{table_manual}\\n')\n",
    "\n",
    "# automatic average partial effects:\n",
    "coef_names = np.array(results_lin.model.exog_names)\n",
    "coef_names = np.delete(coef_names, 0)  # drop Intercept\n",
    "\n",
    "APE_logit_autom = results_logit.get_margeff().margeff\n",
    "APE_probit_autom = results_probit.get_margeff().margeff\n",
    "\n",
    "table_auto = pd.DataFrame({'coef_names': coef_names,\n",
    "                           'APE_logit_autom': np.round(APE_logit_autom, 4),\n",
    "                           'APE_probit_autom': np.round(APE_probit_autom, 4)})\n",
    "print(f'table_auto: \\n{table_auto}\\n')\n"
   ]
  },
  {
   "cell_type": "markdown",
   "metadata": {},
   "source": [
    "# 7) The Poisson Regression Model\n",
    "## Example: Number of Arrests"
   ]
  },
  {
   "cell_type": "code",
   "execution_count": 9,
   "metadata": {},
   "outputs": [
    {
     "name": "stdout",
     "output_type": "stream",
     "text": [
      "table_lin: \n",
      "                b      se        t    pval\n",
      "Intercept  0.5766  0.0379  15.2150  0.0000\n",
      "pcnv      -0.1319  0.0404  -3.2642  0.0011\n",
      "avgsen    -0.0113  0.0122  -0.9257  0.3547\n",
      "tottime    0.0121  0.0094   1.2790  0.2010\n",
      "ptime86   -0.0409  0.0088  -4.6378  0.0000\n",
      "qemp86    -0.0513  0.0145  -3.5420  0.0004\n",
      "inc86     -0.0015  0.0003  -4.2613  0.0000\n",
      "black      0.3270  0.0454   7.1987  0.0000\n",
      "hispan     0.1938  0.0397   4.8799  0.0000\n",
      "born60    -0.0225  0.0333  -0.6747  0.4999\n",
      "\n",
      "table_poisson: \n",
      "                b      se       t    pval\n",
      "Intercept -0.5996  0.0673 -8.9158  0.0000\n",
      "pcnv      -0.4016  0.0850 -4.7260  0.0000\n",
      "avgsen    -0.0238  0.0199 -1.1918  0.2333\n",
      "tottime    0.0245  0.0148  1.6603  0.0969\n",
      "ptime86   -0.0986  0.0207 -4.7625  0.0000\n",
      "qemp86    -0.0380  0.0290 -1.3099  0.1902\n",
      "inc86     -0.0081  0.0010 -7.7624  0.0000\n",
      "black      0.6608  0.0738  8.9503  0.0000\n",
      "hispan     0.4998  0.0739  6.7609  0.0000\n",
      "born60    -0.0510  0.0641 -0.7967  0.4256\n",
      "\n",
      "table_qpoisson: \n",
      "                b      se       t    pval\n",
      "Intercept -0.5996  0.0828 -7.2393  0.0000\n",
      "pcnv      -0.4016  0.1046 -3.8373  0.0001\n",
      "avgsen    -0.0238  0.0246 -0.9677  0.3332\n",
      "tottime    0.0245  0.0182  1.3481  0.1776\n",
      "ptime86   -0.0986  0.0255 -3.8670  0.0001\n",
      "qemp86    -0.0380  0.0357 -1.0636  0.2875\n",
      "inc86     -0.0081  0.0013 -6.3028  0.0000\n",
      "black      0.6608  0.0909  7.2673  0.0000\n",
      "hispan     0.4998  0.0910  5.4896  0.0000\n",
      "born60    -0.0510  0.0789 -0.6469  0.5177\n",
      "\n"
     ]
    }
   ],
   "source": [
    "import wooldridge as woo\n",
    "import pandas as pd\n",
    "import statsmodels.api as sm\n",
    "import statsmodels.formula.api as smf\n",
    "\n",
    "crime1 = woo.dataWoo('crime1')\n",
    "\n",
    "# estimate linear model:\n",
    "reg_lin = smf.ols(formula='narr86 ~ pcnv + avgsen + tottime + ptime86 +'\n",
    "                          'qemp86 + inc86 + black + hispan + born60',\n",
    "                  data=crime1)\n",
    "results_lin = reg_lin.fit()\n",
    "\n",
    "# print regression table:\n",
    "table_lin = pd.DataFrame({'b': round(results_lin.params, 4),\n",
    "                          'se': round(results_lin.bse, 4),\n",
    "                          't': round(results_lin.tvalues, 4),\n",
    "                          'pval': round(results_lin.pvalues, 4)})\n",
    "print(f'table_lin: \\n{table_lin}\\n')\n",
    "\n",
    "# estimate Poisson model:\n",
    "reg_poisson = smf.poisson(formula='narr86 ~ pcnv + avgsen + tottime +'\n",
    "                                  'ptime86 + qemp86 + inc86 + black +'\n",
    "                                  'hispan + born60',\n",
    "                          data=crime1)\n",
    "results_poisson = reg_poisson.fit(disp=0)\n",
    "\n",
    "# print regression table:\n",
    "table_poisson = pd.DataFrame({'b': round(results_poisson.params, 4),\n",
    "                              'se': round(results_poisson.bse, 4),\n",
    "                              't': round(results_poisson.tvalues, 4),\n",
    "                              'pval': round(results_poisson.pvalues, 4)})\n",
    "print(f'table_poisson: \\n{table_poisson}\\n')\n",
    "\n",
    "# estimate Quasi-Poisson model:\n",
    "reg_qpoisson = smf.glm(formula='narr86 ~ pcnv + avgsen + tottime + ptime86 +'\n",
    "                               'qemp86 + inc86 + black + hispan + born60',\n",
    "                       family=sm.families.Poisson(),\n",
    "                       data=crime1)\n",
    "# the argument scale controls for the dispersion in exponential dispersion models,\n",
    "# see the module documentation for more details:\n",
    "results_qpoisson = reg_qpoisson.fit(scale='X2', disp=0)\n",
    "\n",
    "# print regression table:\n",
    "table_qpoisson = pd.DataFrame({'b': round(results_qpoisson.params, 4),\n",
    "                               'se': round(results_qpoisson.bse, 4),\n",
    "                               't': round(results_qpoisson.tvalues, 4),\n",
    "                               'pval': round(results_qpoisson.pvalues, 4)})\n",
    "print(f'table_qpoisson: \\n{table_qpoisson}\\n')\n"
   ]
  },
  {
   "cell_type": "markdown",
   "metadata": {},
   "source": [
    "# 8) The Tobit Model\n",
    "## Example: Married Women's Annual Labor Supply "
   ]
  },
  {
   "cell_type": "code",
   "execution_count": 10,
   "metadata": {},
   "outputs": [
    {
     "name": "stdout",
     "output_type": "stream",
     "text": [
      "results_tobit.summary(): \n",
      "                                Tobit Results                                 \n",
      "==============================================================================\n",
      "Dep. Variable:                  hours   Log-Likelihood:                -3819.1\n",
      "Model:                          Tobit   AIC:                             7654.\n",
      "Method:            Maximum Likelihood   BIC:                             7691.\n",
      "Date:                Sun, 07 Nov 2021                                         \n",
      "Time:                        15:24:03                                         \n",
      "No. Observations:                 753                                         \n",
      "Df Residuals:                     745                                         \n",
      "Df Model:                           7                                         \n",
      "=================================================================================\n",
      "                    coef    std err          z      P>|z|      [0.025      0.975]\n",
      "---------------------------------------------------------------------------------\n",
      "Intercept       965.3054    446.428      2.162      0.031      90.322    1840.289\n",
      "nwifeinc         -8.8142      4.459     -1.977      0.048     -17.554      -0.075\n",
      "educ             80.6456     21.583      3.737      0.000      38.343     122.948\n",
      "exper           131.5643     17.279      7.614      0.000      97.697     165.431\n",
      "I(exper ** 2)    -1.8642      0.538     -3.467      0.001      -2.918      -0.810\n",
      "age             -54.4050      7.418     -7.334      0.000     -68.945     -39.865\n",
      "kidslt6        -894.0218    111.878     -7.991      0.000   -1113.298    -674.745\n",
      "kidsge6         -16.2180     38.639     -0.420      0.675     -91.950      59.514\n",
      "par0              7.0229      0.037    189.514      0.000       6.950       7.096\n",
      "=================================================================================\n",
      "\n"
     ]
    }
   ],
   "source": [
    "import wooldridge as woo\n",
    "import numpy as np\n",
    "import patsy as pt\n",
    "import scipy.stats as stats\n",
    "import statsmodels.formula.api as smf\n",
    "import statsmodels.base.model as smclass\n",
    "\n",
    "mroz = woo.dataWoo('mroz')\n",
    "y, X = pt.dmatrices('hours ~ nwifeinc + educ + exper +'\n",
    "                    'I(exper**2)+ age + kidslt6 + kidsge6',\n",
    "                    data=mroz, return_type='dataframe')\n",
    "\n",
    "# generate starting solution:\n",
    "reg_ols = smf.ols(formula='hours ~ nwifeinc + educ + exper + I(exper**2) +'\n",
    "                          'age + kidslt6 + kidsge6', data=mroz)\n",
    "results_ols = reg_ols.fit()\n",
    "sigma_start = np.log(sum(results_ols.resid ** 2) / len(results_ols.resid))\n",
    "params_start = np.concatenate((np.array(results_ols.params), sigma_start),\n",
    "                              axis=None)\n",
    "\n",
    "# extend statsmodels class by defining nloglikeobs:\n",
    "class Tobit(smclass.GenericLikelihoodModel):\n",
    "    # define a function that returns the negative log likelihood per observation\n",
    "    # for a set of parameters that is provided by the argument \"params\":\n",
    "    def nloglikeobs(self, params):\n",
    "        # objects in \"self\" are defined in the parent class:\n",
    "        X = self.exog\n",
    "        y = self.endog\n",
    "        p = X.shape[1]\n",
    "        # for details on the implementation see Wooldridge (2019), formula 17.22:\n",
    "        beta = params[0:p]\n",
    "        sigma = np.exp(params[p])\n",
    "        y_hat = np.dot(X, beta)\n",
    "        y_eq = (y == 0)\n",
    "        y_g = (y > 0)\n",
    "        ll = np.empty(len(y))\n",
    "        ll[y_eq] = np.log(stats.norm.cdf(-y_hat[y_eq] / sigma))\n",
    "        ll[y_g] = np.log(stats.norm.pdf((y - y_hat)[y_g] / sigma)) - np.log(sigma)\n",
    "        # return an array of log likelihoods for each observation:\n",
    "        return -ll\n",
    "\n",
    "# results of MLE:\n",
    "reg_tobit = Tobit(endog=y, exog=X)\n",
    "results_tobit = reg_tobit.fit(start_params=params_start, maxiter=10000, disp=0)\n",
    "print(f'results_tobit.summary(): \\n{results_tobit.summary()}\\n')\n"
   ]
  },
  {
   "cell_type": "code",
   "execution_count": 11,
   "metadata": {},
   "outputs": [
    {
     "data": {
      "text/plain": [
       "<matplotlib.legend.Legend at 0x7f8c24379ac0>"
      ]
     },
     "execution_count": 11,
     "metadata": {},
     "output_type": "execute_result"
    },
    {
     "data": {
      "image/png": "[encoded data removed]",
      "text/plain": [
       "<Figure size 720x576 with 1 Axes>"
      ]
     },
     "metadata": {
      "needs_background": "light"
     },
     "output_type": "display_data"
    }
   ],
   "source": [
    "# Plot of the Conditional Means for Tobit (simulation)\n",
    "import numpy as np\n",
    "import matplotlib.pyplot as plt\n",
    "import scipy.stats as stats\n",
    "\n",
    "# set the random seed:\n",
    "np.random.seed(1234567)\n",
    "\n",
    "x = np.sort(stats.norm.rvs(0, 1, size=100) + 4)\n",
    "xb = -4 + 1 * x\n",
    "y_star = xb + stats.norm.rvs(0, 1, size=100)\n",
    "y = np.copy(y_star)\n",
    "y[y_star < 0] = 0\n",
    "\n",
    "# conditional means:\n",
    "Eystar = xb\n",
    "Ey = stats.norm.cdf(xb / 1) * xb + 1 * stats.norm.pdf(xb / 1)\n",
    "\n",
    "# plot data and conditional means:\n",
    "fig, ax = plt.subplots(figsize=(10, 8))\n",
    "plt.axhline(y=0, linewidth=0.5,\n",
    "            linestyle='-', color='grey')\n",
    "plt.plot(x, y_star, color='black',\n",
    "         marker='x', linestyle='', label='y*')\n",
    "plt.plot(x, y, color='black', marker='+',\n",
    "         linestyle='', label='y')\n",
    "plt.plot(x, Eystar, color='blue', marker='',\n",
    "         linestyle='-', label='E(y*)')\n",
    "plt.plot(x, Ey, color='blue', marker='',\n",
    "         linestyle='--', label='E(y)')\n",
    "plt.ylabel('y')\n",
    "plt.xlabel('x')\n",
    "plt.legend()"
   ]
  },
  {
   "cell_type": "markdown",
   "metadata": {},
   "source": [
    "# 9) Censored/Truncated Regression Models\n",
    "## Example: Duration of Recidivism   \n",
    "Recidivism: Time it takes individuals released from prison to be arrested again."
   ]
  },
  {
   "cell_type": "code",
   "execution_count": 12,
   "metadata": {},
   "outputs": [
    {
     "name": "stderr",
     "output_type": "stream",
     "text": [
      "<ipython-input-12-e827aa040448>:43: RuntimeWarning: divide by zero encountered in log\n",
      "  ll[~cens] = np.log(stats.norm.pdf((y - y_hat)[~cens] /\n",
      "/Users/randallr.rojas/anaconda2/lib/python3.8/site-packages/statsmodels/tools/numdiff.py:158: RuntimeWarning: invalid value encountered in double_scalars\n",
      "  grad[k, :] = (f(*((x+ei,)+args), **kwargs) -\n",
      "<ipython-input-12-e827aa040448>:43: RuntimeWarning: divide by zero encountered in log\n",
      "  ll[~cens] = np.log(stats.norm.pdf((y - y_hat)[~cens] /\n"
     ]
    },
    {
     "name": "stdout",
     "output_type": "stream",
     "text": [
      "results_censReg.summary(): \n",
      "                               CensReg Results                                \n",
      "==============================================================================\n",
      "Dep. Variable:                 ldurat   Log-Likelihood:                -1597.1\n",
      "Model:                        CensReg   AIC:                             3216.\n",
      "Method:            Maximum Likelihood   BIC:                             3274.\n",
      "Date:                Sun, 07 Nov 2021                                         \n",
      "Time:                        15:24:04                                         \n",
      "No. Observations:                1445                                         \n",
      "Df Residuals:                    1434                                         \n",
      "Df Model:                          10                                         \n",
      "==============================================================================\n",
      "                 coef    std err          z      P>|z|      [0.025      0.975]\n",
      "------------------------------------------------------------------------------\n",
      "Intercept      4.0994      0.348     11.796      0.000       3.418       4.781\n",
      "workprg       -0.0626      0.120     -0.521      0.602      -0.298       0.173\n",
      "priors        -0.1373      0.021     -6.396      0.000      -0.179      -0.095\n",
      "tserved       -0.0193      0.003     -6.491      0.000      -0.025      -0.013\n",
      "felon          0.4440      0.145      3.060      0.002       0.160       0.728\n",
      "alcohol       -0.6349      0.144     -4.403      0.000      -0.918      -0.352\n",
      "drugs         -0.2982      0.133     -2.246      0.025      -0.558      -0.038\n",
      "black         -0.5427      0.117     -4.621      0.000      -0.773      -0.313\n",
      "married        0.3407      0.140      2.436      0.015       0.067       0.615\n",
      "educ           0.0229      0.025      0.902      0.367      -0.027       0.073\n",
      "age            0.0039      0.001      6.450      0.000       0.003       0.005\n",
      "par0           0.5936      0.034     17.249      0.000       0.526       0.661\n",
      "==============================================================================\n",
      "\n"
     ]
    }
   ],
   "source": [
    "import wooldridge as woo\n",
    "import numpy as np\n",
    "import patsy as pt\n",
    "import scipy.stats as stats\n",
    "import statsmodels.formula.api as smf\n",
    "import statsmodels.base.model as smclass\n",
    "\n",
    "recid = woo.dataWoo('recid')\n",
    "\n",
    "# define dummy for censored observations:\n",
    "censored = recid['cens'] != 0\n",
    "y, X = pt.dmatrices('ldurat ~ workprg + priors + tserved + felon +'\n",
    "                    'alcohol + drugs + black + married + educ + age',\n",
    "                    data=recid, return_type='dataframe')\n",
    "\n",
    "# generate starting solution:\n",
    "reg_ols = smf.ols(formula='ldurat ~ workprg + priors + tserved + felon +'\n",
    "                          'alcohol + drugs + black + married + educ + age',\n",
    "                  data=recid)\n",
    "results_ols = reg_ols.fit()\n",
    "sigma_start = np.log(sum(results_ols.resid ** 2) / len(results_ols.resid))\n",
    "params_start = np.concatenate((np.array(results_ols.params), sigma_start),\n",
    "                              axis=None)\n",
    "\n",
    "\n",
    "# extend statsmodels class by defining nloglikeobs:\n",
    "class CensReg(smclass.GenericLikelihoodModel):\n",
    "    def __init__(self, endog, cens, exog):\n",
    "        self.cens = cens\n",
    "        super(smclass.GenericLikelihoodModel, self).__init__(endog, exog,\n",
    "                                                             missing='none')\n",
    "\n",
    "    def nloglikeobs(self, params):\n",
    "        X = self.exog\n",
    "        y = self.endog\n",
    "        cens = self.cens\n",
    "        p = X.shape[1]\n",
    "        beta = params[0:p]\n",
    "        sigma = np.exp(params[p])\n",
    "        y_hat = np.dot(X, beta)\n",
    "        ll = np.empty(len(y))\n",
    "        # uncensored:\n",
    "        ll[~cens] = np.log(stats.norm.pdf((y - y_hat)[~cens] /\n",
    "                                          sigma)) - np.log(sigma)\n",
    "        # censored:\n",
    "        ll[cens] = np.log(stats.norm.cdf(-(y - y_hat)[cens] / sigma))\n",
    "        return -ll\n",
    "\n",
    "\n",
    "# results of MLE:\n",
    "reg_censReg = CensReg(endog=y, exog=X, cens=censored)\n",
    "results_censReg = reg_censReg.fit(start_params=params_start,\n",
    "                                  maxiter=10000, method='BFGS', disp=0)\n",
    "print(f'results_censReg.summary(): \\n{results_censReg.summary()}\\n')\n"
   ]
  },
  {
   "cell_type": "code",
   "execution_count": 13,
   "metadata": {},
   "outputs": [],
   "source": [
    "## Example: Truncated regression simulation"
   ]
  },
  {
   "cell_type": "code",
   "execution_count": 14,
   "metadata": {},
   "outputs": [
    {
     "data": {
      "text/plain": [
       "<matplotlib.legend.Legend at 0x7f8c25a77a00>"
      ]
     },
     "execution_count": 14,
     "metadata": {},
     "output_type": "execute_result"
    },
    {
     "data": {
      "image/png": "[encoded data removed]",
      "text/plain": [
       "<Figure size 864x720 with 1 Axes>"
      ]
     },
     "metadata": {
      "needs_background": "light"
     },
     "output_type": "display_data"
    }
   ],
   "source": [
    "import numpy as np\n",
    "import pandas as pd\n",
    "import matplotlib.pyplot as plt\n",
    "import scipy.stats as stats\n",
    "import statsmodels.api as sm\n",
    "import statsmodels.base.model as smclass\n",
    "\n",
    "# set the random seed:\n",
    "np.random.seed(1234567)\n",
    "\n",
    "x = np.sort(stats.norm.rvs(0, 1, size=100) + 4)\n",
    "xb = -4 + 1 * x\n",
    "y_star = xb + stats.norm.rvs(0, 1, size=100)\n",
    "y = np.copy(y_star)\n",
    "y[y_star < 0] = 0\n",
    "\n",
    "x_wc = pd.DataFrame({'const': 1, 'x': x})\n",
    "\n",
    "\n",
    "# extend statsmodel class:\n",
    "class Tobit(smclass.GenericLikelihoodModel):\n",
    "    def nloglikeobs(self, params):\n",
    "        X = self.exog\n",
    "        y = self.endog\n",
    "        p = X.shape[1]\n",
    "        beta = params[0:p]\n",
    "        sigma = np.exp(params[p])\n",
    "        y_hat = np.dot(X, beta)\n",
    "        y_eq = (y == 0)\n",
    "        y_g = (y > 0)\n",
    "        ll = np.empty(len(y))\n",
    "        ll[y_eq] = np.log(stats.norm.cdf(-y_hat[y_eq] / sigma))\n",
    "        ll[y_g] = np.log(stats.norm.pdf((y - y_hat)[y_g] / sigma)) - np.log(sigma)\n",
    "        return -ll\n",
    "\n",
    "\n",
    "# predictions:\n",
    "reg_ols = sm.OLS(endog=y, exog=x_wc)\n",
    "results_ols = reg_ols.fit()\n",
    "yhat_ols = results_ols.fittedvalues\n",
    "\n",
    "sigma_start = np.log(sum(results_ols.resid ** 2) / len(results_ols.resid))\n",
    "params_start = np.concatenate((np.array(results_ols.params), sigma_start), axis=None)\n",
    "reg_tobit = Tobit(endog=y, exog=x_wc)\n",
    "results_tobit = reg_tobit.fit(start_params=params_start, disp=0)\n",
    "yhat_tobit = np.dot(x_wc, np.transpose(results_tobit.params[0:2]))\n",
    "\n",
    "# plot data and model predictions:\n",
    "fig, ax = plt.subplots(figsize=(12, 10))\n",
    "plt.axhline(y=0, linewidth=0.5, linestyle='-', color='grey')\n",
    "plt.plot(x, y_star, color='black', marker='x',\n",
    "         linestyle='', label='real data')\n",
    "plt.plot(x, y, color='red', marker='+',\n",
    "         linestyle='', label='truncated data')\n",
    "plt.plot(x, yhat_ols, color='black', marker='',\n",
    "         linestyle='-', label='OLS fit')\n",
    "plt.plot(x, yhat_tobit, color='blue', marker='',\n",
    "         linestyle='--', label='Tobit fit')\n",
    "plt.ylabel('y')\n",
    "plt.xlabel('x')\n",
    "plt.legend()\n"
   ]
  }
 ],
 "metadata": {
  "kernelspec": {
   "display_name": "Python 3 (ipykernel)",
   "language": "python",
   "name": "python3"
  },
  "language_info": {
   "codemirror_mode": {
    "name": "ipython",
    "version": 3
   },
   "file_extension": ".py",
   "mimetype": "text/x-python",
   "name": "python",
   "nbconvert_exporter": "python",
   "pygments_lexer": "ipython3",
   "version": "3.8.5"
  },
  "latex_envs": {
   "LaTeX_envs_menu_present": true,
   "autoclose": false,
   "autocomplete": true,
   "bibliofile": "biblio.bib",
   "cite_by": "apalike",
   "current_citInitial": 1,
   "eqLabelWithNumbers": true,
   "eqNumInitial": 1,
   "hotkeys": {
    "equation": "Ctrl-E",
    "itemize": "Ctrl-I"
   },
   "labels_anchors": false,
   "latex_user_defs": false,
   "report_style_numbering": false,
   "user_envs_cfg": false
  },
  "varInspector": {
   "cols": {
    "lenName": 16,
    "lenType": 16,
    "lenVar": 40
   },
   "kernels_config": {
    "python": {
     "delete_cmd_postfix": "",
     "delete_cmd_prefix": "del ",
     "library": "var_list.py",
     "varRefreshCmd": "print(var_dic_list())"
    },
    "r": {
     "delete_cmd_postfix": ") ",
     "delete_cmd_prefix": "rm(",
     "library": "var_list.r",
     "varRefreshCmd": "cat(var_dic_list()) "
    }
   },
   "types_to_exclude": [
    "module",
    "function",
    "builtin_function_or_method",
    "instance",
    "_Feature"
   ],
   "window_display": false
  }
 },
 "nbformat": 4,
 "nbformat_minor": 4
}
