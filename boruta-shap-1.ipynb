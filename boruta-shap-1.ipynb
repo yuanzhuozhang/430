{
 "cells": [
  {
   "cell_type": "markdown",
   "id": "08f623e7",
   "metadata": {},
   "source": [
    "# <center> Boruta Algorithm </center>"
   ]
  },
  {
   "cell_type": "markdown",
   "id": "bf524bbb",
   "metadata": {},
   "source": [
    "__Packages to install:__\n",
    "\n",
    "1. pip install Boruta or conda install -c conda-forge boruta_py\n",
    "2. pip install scikit-learn"
   ]
  },
  {
   "cell_type": "markdown",
   "id": "8386a595",
   "metadata": {},
   "source": [
    "__Resources__\n",
    "\n",
    "1. Data Sets used in R: http://www.principlesofeconometrics.com/poe4/poe4excel.htm\n",
    "\n",
    "2. RandomForestRegressor: https://scikit-learn.org/stable/modules/generated/sklearn.ensemble.RandomForestRegressor.html\n",
    "\n",
    "3. BroutaPy: https://github.com/scikit-learn-contrib/boruta_py\n",
    "\n",
    "4. Time Series Cross Validation Methods: https://towardsdatascience.com/dont-use-k-fold-validation-for-time-series-forecasting-30b724aaea64"
   ]
  },
  {
   "cell_type": "code",
   "execution_count": 3,
   "id": "f20aaa4a",
   "metadata": {},
   "outputs": [],
   "source": [
    "# pip install BorutaShap\n",
    "from BorutaShap import BorutaShap\n",
    "import pandas as pd \n",
    "import numpy as np \n",
    "from sklearn.ensemble import RandomForestRegressor"
   ]
  },
  {
   "cell_type": "code",
   "execution_count": 2,
   "id": "2c01fc15",
   "metadata": {},
   "outputs": [],
   "source": [
    "# pip install BorutaShap\n",
    "# pip install ipywidgets\n",
    "# if ipywidget error occurs:\n",
    "    # try: jupyter nbextension enable --py widgetsnbextension (for non-virutal enviornment)\n",
    "    # try: jupyter nbextension enable --py widgetsnbextension --sys-prefix (for virtual enviornment)"
   ]
  },
  {
   "cell_type": "markdown",
   "id": "a9cd3028",
   "metadata": {},
   "source": [
    "__BorutaShap documentation:__ https://github.com/Ekeany/Boruta-Shap"
   ]
  },
  {
   "cell_type": "code",
   "execution_count": 3,
   "id": "e5ba3133",
   "metadata": {},
   "outputs": [],
   "source": [
    "df = pd.read_csv('cps4_small.csv')\n",
    "# check for null values \n",
    "df.isnull().values.any()\n",
    "df.head(5)\n",
    "\n",
    "x = df.iloc[:, 1:]\n",
    "y = df['wage']"
   ]
  },
  {
   "cell_type": "code",
   "execution_count": 4,
   "id": "d5e3741f",
   "metadata": {},
   "outputs": [
    {
     "data": {
      "application/vnd.jupyter.widget-view+json": {
       "model_id": "d71005451e3d471888b1de8e2766aa71",
       "version_major": 2,
       "version_minor": 0
      },
      "text/plain": [
       "HBox(children=(FloatProgress(value=0.0, max=50.0), HTML(value='')))"
      ]
     },
     "metadata": {},
     "output_type": "display_data"
    },
    {
     "name": "stdout",
     "output_type": "stream",
     "text": [
      "\n",
      "4 attributes confirmed important: ['exper', 'educ', 'hrswk', 'female']\n",
      "7 attributes confirmed unimportant: ['midwest', 'south', 'black', 'asian', 'west', 'married', 'metro']\n",
      "0 tentative attributes remains: []\n"
     ]
    },
    {
     "data": {
      "image/png": "[encoded data removed]",
      "text/plain": [
       "<Figure size 864x576 with 1 Axes>"
      ]
     },
     "metadata": {
      "needs_background": "light"
     },
     "output_type": "display_data"
    }
   ],
   "source": [
    "# 10 minutes to run for n_trial=50 \n",
    "# if model is not specified in BroutaShap(): default = random forest (just like R and BorutaPy)\n",
    "Feature_Selector = BorutaShap(importance_measure='shap', classification=False)\n",
    "Feature_Selector.fit(X=x, y=y, n_trials=50, random_state=0)\n",
    "Feature_Selector.plot(which_features='all')"
   ]
  },
  {
   "cell_type": "code",
   "execution_count": 5,
   "id": "ed148c87",
   "metadata": {},
   "outputs": [
    {
     "data": {
      "text/html": [
       "<div>\n",
       "<style scoped>\n",
       "    .dataframe tbody tr th:only-of-type {\n",
       "        vertical-align: middle;\n",
       "    }\n",
       "\n",
       "    .dataframe tbody tr th {\n",
       "        vertical-align: top;\n",
       "    }\n",
       "\n",
       "    .dataframe thead th {\n",
       "        text-align: right;\n",
       "    }\n",
       "</style>\n",
       "<table border=\"1\" class=\"dataframe\">\n",
       "  <thead>\n",
       "    <tr style=\"text-align: right;\">\n",
       "      <th></th>\n",
       "      <th>exper</th>\n",
       "      <th>educ</th>\n",
       "      <th>hrswk</th>\n",
       "      <th>female</th>\n",
       "    </tr>\n",
       "  </thead>\n",
       "  <tbody>\n",
       "    <tr>\n",
       "      <th>0</th>\n",
       "      <td>39</td>\n",
       "      <td>16</td>\n",
       "      <td>37</td>\n",
       "      <td>1</td>\n",
       "    </tr>\n",
       "    <tr>\n",
       "      <th>1</th>\n",
       "      <td>16</td>\n",
       "      <td>12</td>\n",
       "      <td>62</td>\n",
       "      <td>0</td>\n",
       "    </tr>\n",
       "    <tr>\n",
       "      <th>2</th>\n",
       "      <td>13</td>\n",
       "      <td>16</td>\n",
       "      <td>40</td>\n",
       "      <td>0</td>\n",
       "    </tr>\n",
       "    <tr>\n",
       "      <th>3</th>\n",
       "      <td>11</td>\n",
       "      <td>14</td>\n",
       "      <td>40</td>\n",
       "      <td>1</td>\n",
       "    </tr>\n",
       "    <tr>\n",
       "      <th>4</th>\n",
       "      <td>51</td>\n",
       "      <td>12</td>\n",
       "      <td>40</td>\n",
       "      <td>0</td>\n",
       "    </tr>\n",
       "    <tr>\n",
       "      <th>...</th>\n",
       "      <td>...</td>\n",
       "      <td>...</td>\n",
       "      <td>...</td>\n",
       "      <td>...</td>\n",
       "    </tr>\n",
       "    <tr>\n",
       "      <th>995</th>\n",
       "      <td>27</td>\n",
       "      <td>16</td>\n",
       "      <td>40</td>\n",
       "      <td>1</td>\n",
       "    </tr>\n",
       "    <tr>\n",
       "      <th>996</th>\n",
       "      <td>7</td>\n",
       "      <td>13</td>\n",
       "      <td>40</td>\n",
       "      <td>1</td>\n",
       "    </tr>\n",
       "    <tr>\n",
       "      <th>997</th>\n",
       "      <td>5</td>\n",
       "      <td>14</td>\n",
       "      <td>40</td>\n",
       "      <td>1</td>\n",
       "    </tr>\n",
       "    <tr>\n",
       "      <th>998</th>\n",
       "      <td>36</td>\n",
       "      <td>8</td>\n",
       "      <td>40</td>\n",
       "      <td>1</td>\n",
       "    </tr>\n",
       "    <tr>\n",
       "      <th>999</th>\n",
       "      <td>22</td>\n",
       "      <td>13</td>\n",
       "      <td>40</td>\n",
       "      <td>0</td>\n",
       "    </tr>\n",
       "  </tbody>\n",
       "</table>\n",
       "<p>1000 rows × 4 columns</p>\n",
       "</div>"
      ],
      "text/plain": [
       "     exper  educ  hrswk  female\n",
       "0       39    16     37       1\n",
       "1       16    12     62       0\n",
       "2       13    16     40       0\n",
       "3       11    14     40       1\n",
       "4       51    12     40       0\n",
       "..     ...   ...    ...     ...\n",
       "995     27    16     40       1\n",
       "996      7    13     40       1\n",
       "997      5    14     40       1\n",
       "998     36     8     40       1\n",
       "999     22    13     40       0\n",
       "\n",
       "[1000 rows x 4 columns]"
      ]
     },
     "execution_count": 5,
     "metadata": {},
     "output_type": "execute_result"
    }
   ],
   "source": [
    "# Returns a subset of the original data with the selected features\n",
    "Feature_Selector.Subset()"
   ]
  },
  {
   "cell_type": "code",
   "execution_count": null,
   "id": "b7f384db",
   "metadata": {},
   "outputs": [],
   "source": []
  }
 ],
 "metadata": {
  "kernelspec": {
   "display_name": "Python 3 (ipykernel)",
   "language": "python",
   "name": "python3"
  },
  "language_info": {
   "codemirror_mode": {
    "name": "ipython",
    "version": 3
   },
   "file_extension": ".py",
   "mimetype": "text/x-python",
   "name": "python",
   "nbconvert_exporter": "python",
   "pygments_lexer": "ipython3",
   "version": "3.8.5"
  },
  "latex_envs": {
   "LaTeX_envs_menu_present": true,
   "autoclose": false,
   "autocomplete": true,
   "bibliofile": "biblio.bib",
   "cite_by": "apalike",
   "current_citInitial": 1,
   "eqLabelWithNumbers": true,
   "eqNumInitial": 1,
   "hotkeys": {
    "equation": "Ctrl-E",
    "itemize": "Ctrl-I"
   },
   "labels_anchors": false,
   "latex_user_defs": false,
   "report_style_numbering": false,
   "user_envs_cfg": false
  },
  "varInspector": {
   "cols": {
    "lenName": 16,
    "lenType": 16,
    "lenVar": 40
   },
   "kernels_config": {
    "python": {
     "delete_cmd_postfix": "",
     "delete_cmd_prefix": "del ",
     "library": "var_list.py",
     "varRefreshCmd": "print(var_dic_list())"
    },
    "r": {
     "delete_cmd_postfix": ") ",
     "delete_cmd_prefix": "rm(",
     "library": "var_list.r",
     "varRefreshCmd": "cat(var_dic_list()) "
    }
   },
   "types_to_exclude": [
    "module",
    "function",
    "builtin_function_or_method",
    "instance",
    "_Feature"
   ],
   "window_display": false
  }
 },
 "nbformat": 4,
 "nbformat_minor": 5
}
