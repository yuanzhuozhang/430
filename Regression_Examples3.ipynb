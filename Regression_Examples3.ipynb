{
 "cells": [
  {
   "cell_type": "markdown",
   "metadata": {},
   "source": [
    "## Econ 430\n",
    "### UCLA, Master of Quantitative Economics\n",
    "#### Dr. Randall R. Rojas\n",
    "Note: For more details on the codes, please see our textbook; Using Python for Introductory Econometrics by F. Heiss & D. Brunner."
   ]
  },
  {
   "cell_type": "markdown",
   "metadata": {},
   "source": [
    "# 1) Instrumental Variables\n",
    "## Example: Return to Education for Married Women"
   ]
  },
  {
   "cell_type": "code",
   "execution_count": 1,
   "metadata": {},
   "outputs": [
    {
     "name": "stdout",
     "output_type": "stream",
     "text": [
      "b_ols_man: 0.10864865517467516\n",
      "\n",
      "b_iv_man: 0.05917347999936595\n",
      "\n",
      "table_ols: \n",
      "                b      se       t   pval\n",
      "Intercept -0.1852  0.1852 -0.9998  0.318\n",
      "educ       0.1086  0.0144  7.5451  0.000\n",
      "\n",
      "table_iv: \n",
      "                b      se       t    pval\n",
      "Intercept  0.4411  0.4461  0.9888  0.3233\n",
      "educ       0.0592  0.0351  1.6839  0.0929\n",
      "\n"
     ]
    }
   ],
   "source": [
    "#Note: You may need to first install install \"linearmodels\"\n",
    "# pip install linearmodels\n",
    "\n",
    "import wooldridge as woo\n",
    "import numpy as np\n",
    "import pandas as pd\n",
    "import linearmodels.iv as iv\n",
    "import statsmodels.formula.api as smf\n",
    "\n",
    "mroz = woo.dataWoo('mroz')\n",
    "\n",
    "# restrict to non-missing wage observations:\n",
    "mroz = mroz.dropna(subset=['lwage'])\n",
    "\n",
    "cov_yz = np.cov(mroz['lwage'], mroz['fatheduc'])[1, 0]\n",
    "cov_xy = np.cov(mroz['educ'], mroz['lwage'])[1, 0]\n",
    "cov_xz = np.cov(mroz['educ'], mroz['fatheduc'])[1, 0]\n",
    "var_x = np.var(mroz['educ'], ddof=1)\n",
    "x_bar = np.mean(mroz['educ'])\n",
    "y_bar = np.mean(mroz['lwage'])\n",
    "\n",
    "# OLS slope parameter manually:\n",
    "b_ols_man = cov_xy / var_x\n",
    "print(f'b_ols_man: {b_ols_man}\\n')\n",
    "\n",
    "# IV slope parameter manually:\n",
    "b_iv_man = cov_yz / cov_xz\n",
    "print(f'b_iv_man: {b_iv_man}\\n')\n",
    "\n",
    "# OLS automatically:\n",
    "reg_ols = smf.ols(formula='np.log(wage) ~ educ', data=mroz)\n",
    "results_ols = reg_ols.fit()\n",
    "\n",
    "# print regression table:\n",
    "table_ols = pd.DataFrame({'b': round(results_ols.params, 4),\n",
    "                          'se': round(results_ols.bse, 4),\n",
    "                          't': round(results_ols.tvalues, 4),\n",
    "                          'pval': round(results_ols.pvalues, 4)})\n",
    "print(f'table_ols: \\n{table_ols}\\n')\n",
    "\n",
    "# IV automatically:\n",
    "reg_iv = iv.IV2SLS.from_formula(formula='np.log(wage) ~ 1 + [educ ~ fatheduc]',\n",
    "                                data=mroz)\n",
    "results_iv = reg_iv.fit(cov_type='unadjusted', debiased=True)\n",
    "\n",
    "# print regression table:\n",
    "table_iv = pd.DataFrame({'b': round(results_iv.params, 4),\n",
    "                         'se': round(results_iv.std_errors, 4),\n",
    "                         't': round(results_iv.tstats, 4),\n",
    "                         'pval': round(results_iv.pvalues, 4)})\n",
    "print(f'table_iv: \\n{table_iv}\\n')\n"
   ]
  },
  {
   "cell_type": "markdown",
   "metadata": {},
   "source": [
    "## Example: College Proximity as an IV for Education"
   ]
  },
  {
   "cell_type": "code",
   "execution_count": 2,
   "metadata": {},
   "outputs": [
    {
     "name": "stdout",
     "output_type": "stream",
     "text": [
      "table_redf: \n",
      "                     b      se        t    pval\n",
      "Intercept      16.6383  0.2406  69.1446  0.0000\n",
      "nearc4          0.3199  0.0879   3.6408  0.0003\n",
      "exper          -0.4125  0.0337 -12.2415  0.0000\n",
      "I(exper ** 2)   0.0009  0.0017   0.5263  0.5987\n",
      "black          -0.9355  0.0937  -9.9806  0.0000\n",
      "smsa            0.4022  0.1048   3.8372  0.0001\n",
      "south          -0.0516  0.1354  -0.3811  0.7032\n",
      "smsa66          0.0255  0.1058   0.2409  0.8096\n",
      "reg662         -0.0786  0.1871  -0.4203  0.6743\n",
      "reg663         -0.0279  0.1834  -0.1524  0.8789\n",
      "reg664          0.1172  0.2173   0.5394  0.5897\n",
      "reg665         -0.2726  0.2184  -1.2481  0.2121\n",
      "reg666         -0.3028  0.2371  -1.2773  0.2016\n",
      "reg667         -0.2168  0.2344  -0.9250  0.3550\n",
      "reg668          0.5239  0.2675   1.9587  0.0502\n",
      "reg669          0.2103  0.2025   1.0386  0.2991\n",
      "\n",
      "table_ols: \n",
      "                    b      se        t    pval\n",
      "Intercept      4.6208  0.0742  62.2476  0.0000\n",
      "educ           0.0747  0.0035  21.3510  0.0000\n",
      "exper          0.0848  0.0066  12.8063  0.0000\n",
      "I(exper ** 2) -0.0023  0.0003  -7.2232  0.0000\n",
      "black         -0.1990  0.0182 -10.9058  0.0000\n",
      "smsa           0.1364  0.0201   6.7851  0.0000\n",
      "south         -0.1480  0.0260  -5.6950  0.0000\n",
      "smsa66         0.0262  0.0194   1.3493  0.1773\n",
      "reg662         0.0964  0.0359   2.6845  0.0073\n",
      "reg663         0.1445  0.0351   4.1151  0.0000\n",
      "reg664         0.0551  0.0417   1.3221  0.1862\n",
      "reg665         0.1280  0.0418   3.0599  0.0022\n",
      "reg666         0.1405  0.0452   3.1056  0.0019\n",
      "reg667         0.1180  0.0448   2.6334  0.0085\n",
      "reg668        -0.0564  0.0513  -1.1010  0.2710\n",
      "reg669         0.1186  0.0388   3.0536  0.0023\n",
      "\n",
      "table_iv: \n",
      "                    b      se       t    pval\n",
      "Intercept      3.6662  0.9248  3.9641  0.0001\n",
      "exper          0.1083  0.0237  4.5764  0.0000\n",
      "I(exper ** 2) -0.0023  0.0003 -7.0014  0.0000\n",
      "black         -0.1468  0.0539 -2.7231  0.0065\n",
      "smsa           0.1118  0.0317  3.5313  0.0004\n",
      "south         -0.1447  0.0273 -5.3023  0.0000\n",
      "smsa66         0.0185  0.0216  0.8576  0.3912\n",
      "reg662         0.1008  0.0377  2.6739  0.0075\n",
      "reg663         0.1483  0.0368  4.0272  0.0001\n",
      "reg664         0.0499  0.0437  1.1408  0.2541\n",
      "reg665         0.1463  0.0471  3.1079  0.0019\n",
      "reg666         0.1629  0.0519  3.1382  0.0017\n",
      "reg667         0.1346  0.0494  2.7240  0.0065\n",
      "reg668        -0.0831  0.0593 -1.4002  0.1616\n",
      "reg669         0.1078  0.0418  2.5784  0.0100\n",
      "educ           0.1315  0.0550  2.3926  0.0168\n",
      "\n"
     ]
    }
   ],
   "source": [
    "import wooldridge as woo\n",
    "import numpy as np\n",
    "import pandas as pd\n",
    "import linearmodels.iv as iv\n",
    "import statsmodels.formula.api as smf\n",
    "\n",
    "card = woo.dataWoo('card')\n",
    "\n",
    "# checking for relevance with reduced form:\n",
    "reg_redf = smf.ols(\n",
    "    formula='educ ~ nearc4 + exper + I(exper**2) + black + smsa +'\n",
    "    'south + smsa66 + reg662 + reg663 + reg664 + reg665 + reg666 +'\n",
    "    'reg667 + reg668 + reg669', data=card)\n",
    "results_redf = reg_redf.fit()\n",
    "\n",
    "# print regression table:\n",
    "table_redf = pd.DataFrame({'b': round(results_redf.params, 4),\n",
    "                           'se': round(results_redf.bse, 4),\n",
    "                           't': round(results_redf.tvalues, 4),\n",
    "                           'pval': round(results_redf.pvalues, 4)})\n",
    "print(f'table_redf: \\n{table_redf}\\n')\n",
    "\n",
    "# OLS:\n",
    "reg_ols = smf.ols(\n",
    "    formula='np.log(wage) ~ educ + exper + I(exper**2) + black + smsa +'\n",
    "    'south + smsa66 + reg662 + reg663 + reg664 + reg665 +'\n",
    "    'reg666 + reg667 + reg668 + reg669', data=card)\n",
    "results_ols = reg_ols.fit()\n",
    "\n",
    "# print regression table:\n",
    "table_ols = pd.DataFrame({'b': round(results_ols.params, 4),\n",
    "                          'se': round(results_ols.bse, 4),\n",
    "                          't': round(results_ols.tvalues, 4),\n",
    "                          'pval': round(results_ols.pvalues, 4)})\n",
    "print(f'table_ols: \\n{table_ols}\\n')\n",
    "\n",
    "# IV automatically:\n",
    "reg_iv = iv.IV2SLS.from_formula(\n",
    "    formula='np.log(wage)~ 1 + exper + I(exper**2) + black + smsa + '\n",
    "            'south + smsa66 + reg662 + reg663 + reg664 + reg665 +'\n",
    "            'reg666 + reg667 + reg668 + reg669 + [educ ~ nearc4]',\n",
    "    data=card)\n",
    "results_iv = reg_iv.fit(cov_type='unadjusted', debiased=True)\n",
    "\n",
    "# print regression table:\n",
    "table_iv = pd.DataFrame({'b': round(results_iv.params, 4),\n",
    "                         'se': round(results_iv.std_errors, 4),\n",
    "                         't': round(results_iv.tstats, 4),\n",
    "                         'pval': round(results_iv.pvalues, 4)})\n",
    "print(f'table_iv: \\n{table_iv}\\n')\n"
   ]
  },
  {
   "cell_type": "markdown",
   "metadata": {},
   "source": [
    "# 2) Two Stage Least Squares\n",
    "## Example: Return to Education for Married Women"
   ]
  },
  {
   "cell_type": "code",
   "execution_count": 3,
   "metadata": {},
   "outputs": [
    {
     "name": "stdout",
     "output_type": "stream",
     "text": [
      "table_redf: \n",
      "                    b      se        t    pval\n",
      "Intercept      9.1026  0.4266  21.3396  0.0000\n",
      "exper          0.0452  0.0403   1.1236  0.2618\n",
      "I(exper ** 2) -0.0010  0.0012  -0.8386  0.4022\n",
      "motheduc       0.1576  0.0359   4.3906  0.0000\n",
      "fatheduc       0.1895  0.0338   5.6152  0.0000\n",
      "\n",
      "table_secstg: \n",
      "                    b      se       t    pval\n",
      "Intercept      0.0481  0.4198  0.1146  0.9088\n",
      "educ_fitted    0.0614  0.0330  1.8626  0.0632\n",
      "exper          0.0442  0.0141  3.1361  0.0018\n",
      "I(exper ** 2) -0.0009  0.0004 -2.1344  0.0334\n",
      "\n",
      "table_iv: \n",
      "                    b      se       t    pval\n",
      "Intercept      0.0481  0.4003  0.1202  0.9044\n",
      "exper          0.0442  0.0134  3.2883  0.0011\n",
      "I(exper ** 2) -0.0009  0.0004 -2.2380  0.0257\n",
      "educ           0.0614  0.0314  1.9530  0.0515\n",
      "\n"
     ]
    }
   ],
   "source": [
    "import wooldridge as woo\n",
    "import numpy as np\n",
    "import pandas as pd\n",
    "import linearmodels.iv as iv\n",
    "import statsmodels.formula.api as smf\n",
    "\n",
    "mroz = woo.dataWoo('mroz')\n",
    "\n",
    "# restrict to non-missing wage observations:\n",
    "mroz = mroz.dropna(subset=['lwage'])\n",
    "\n",
    "# 1st stage (reduced form):\n",
    "reg_redf = smf.ols(formula='educ ~ exper + I(exper**2) + motheduc + fatheduc',\n",
    "                   data=mroz)\n",
    "results_redf = reg_redf.fit()\n",
    "mroz['educ_fitted'] = results_redf.fittedvalues\n",
    "\n",
    "# print regression table:\n",
    "table_redf = pd.DataFrame({'b': round(results_redf.params, 4),\n",
    "                           'se': round(results_redf.bse, 4),\n",
    "                           't': round(results_redf.tvalues, 4),\n",
    "                           'pval': round(results_redf.pvalues, 4)})\n",
    "print(f'table_redf: \\n{table_redf}\\n')\n",
    "\n",
    "# 2nd stage:\n",
    "reg_secstg = smf.ols(formula='np.log(wage) ~ educ_fitted + exper + I(exper**2)',\n",
    "                     data=mroz)\n",
    "results_secstg = reg_secstg.fit()\n",
    "\n",
    "# print regression table:\n",
    "table_secstg = pd.DataFrame({'b': round(results_secstg.params, 4),\n",
    "                             'se': round(results_secstg.bse, 4),\n",
    "                             't': round(results_secstg.tvalues, 4),\n",
    "                             'pval': round(results_secstg.pvalues, 4)})\n",
    "print(f'table_secstg: \\n{table_secstg}\\n')\n",
    "\n",
    "# IV automatically:\n",
    "reg_iv = iv.IV2SLS.from_formula(\n",
    "    formula='np.log(wage) ~ 1 + exper + I(exper**2) +'\n",
    "            '[educ  ~ motheduc + fatheduc]',\n",
    "    data=mroz)\n",
    "results_iv = reg_iv.fit(cov_type='unadjusted', debiased=True)\n",
    "\n",
    "# print regression table:\n",
    "table_iv = pd.DataFrame({'b': round(results_iv.params, 4),\n",
    "                         'se': round(results_iv.std_errors, 4),\n",
    "                         't': round(results_iv.tstats, 4),\n",
    "                         'pval': round(results_iv.pvalues, 4)})\n",
    "print(f'table_iv: \\n{table_iv}\\n')\n"
   ]
  },
  {
   "cell_type": "markdown",
   "metadata": {},
   "source": [
    "# 3) Testing  for Exogeneity of the Regressors\n",
    "## Example: Return to Education for Married Women"
   ]
  },
  {
   "cell_type": "code",
   "execution_count": 4,
   "metadata": {},
   "outputs": [
    {
     "name": "stdout",
     "output_type": "stream",
     "text": [
      "table_secstg: \n",
      "                    b      se       t    pval\n",
      "Intercept      0.0481  0.3946  0.1219  0.9030\n",
      "resid          0.0582  0.0348  1.6711  0.0954\n",
      "educ           0.0614  0.0310  1.9815  0.0482\n",
      "exper          0.0442  0.0132  3.3363  0.0009\n",
      "I(exper ** 2) -0.0009  0.0004 -2.2706  0.0237\n",
      "\n"
     ]
    }
   ],
   "source": [
    "import wooldridge as woo\n",
    "import numpy as np\n",
    "import pandas as pd\n",
    "import statsmodels.formula.api as smf\n",
    "\n",
    "mroz = woo.dataWoo('mroz')\n",
    "\n",
    "# restrict to non-missing wage observations:\n",
    "mroz = mroz.dropna(subset=['lwage'])\n",
    "\n",
    "# 1st stage (reduced form):\n",
    "reg_redf = smf.ols(formula='educ ~ exper + I(exper**2) + motheduc + fatheduc',\n",
    "                   data=mroz)\n",
    "results_redf = reg_redf.fit()\n",
    "mroz['resid'] = results_redf.resid\n",
    "\n",
    "# 2nd stage:\n",
    "reg_secstg = smf.ols(formula='np.log(wage)~ resid + educ + exper + I(exper**2)',\n",
    "                     data=mroz)\n",
    "results_secstg = reg_secstg.fit()\n",
    "\n",
    "# print regression table:\n",
    "table_secstg = pd.DataFrame({'b': round(results_secstg.params, 4),\n",
    "                             'se': round(results_secstg.bse, 4),\n",
    "                             't': round(results_secstg.tvalues, 4),\n",
    "                             'pval': round(results_secstg.pvalues, 4)})\n",
    "print(f'table_secstg: \\n{table_secstg}\\n')\n"
   ]
  },
  {
   "cell_type": "markdown",
   "metadata": {},
   "source": [
    "# 4) Testing Overidentifying Restrictions\n",
    "## Example: Return to Education for Married Women"
   ]
  },
  {
   "cell_type": "code",
   "execution_count": 5,
   "metadata": {},
   "outputs": [
    {
     "name": "stdout",
     "output_type": "stream",
     "text": [
      "table_iv: \n",
      "                    b      se       t    pval\n",
      "Intercept      0.0481  0.4003  0.1202  0.9044\n",
      "exper          0.0442  0.0134  3.2883  0.0011\n",
      "I(exper ** 2) -0.0009  0.0004 -2.2380  0.0257\n",
      "educ           0.0614  0.0314  1.9530  0.0515\n",
      "\n",
      "r2: 0.0008833444088022224\n",
      "\n",
      "n: 428.0\n",
      "\n",
      "teststat: 0.3780714069673512\n",
      "\n",
      "pval: 0.5386371981604356\n",
      "\n"
     ]
    }
   ],
   "source": [
    "import wooldridge as woo\n",
    "import numpy as np\n",
    "import pandas as pd\n",
    "import linearmodels.iv as iv\n",
    "import statsmodels.formula.api as smf\n",
    "import scipy.stats as stats\n",
    "\n",
    "mroz = woo.dataWoo('mroz')\n",
    "\n",
    "# restrict to non-missing wage observations:\n",
    "mroz = mroz.dropna(subset=['lwage'])\n",
    "\n",
    "# IV regression:\n",
    "reg_iv = iv.IV2SLS.from_formula(formula='np.log(wage) ~ 1 + exper + I(exper**2) +'\n",
    "                                        '[educ ~ motheduc + fatheduc]', data=mroz)\n",
    "results_iv = reg_iv.fit(cov_type='unadjusted', debiased=True)\n",
    "\n",
    "# print regression table:\n",
    "table_iv = pd.DataFrame({'b': round(results_iv.params, 4),\n",
    "                         'se': round(results_iv.std_errors, 4),\n",
    "                         't': round(results_iv.tstats, 4),\n",
    "                         'pval': round(results_iv.pvalues, 4)})\n",
    "print(f'table_iv: \\n{table_iv}\\n')\n",
    "\n",
    "# auxiliary regression:\n",
    "mroz['resid_iv'] = results_iv.resids\n",
    "reg_aux = smf.ols(formula='resid_iv ~ exper + I(exper**2) + motheduc + fatheduc',\n",
    "                  data=mroz)\n",
    "results_aux = reg_aux.fit()\n",
    "\n",
    "# calculations for test:\n",
    "r2 = results_aux.rsquared\n",
    "n = results_aux.nobs\n",
    "teststat = n * r2\n",
    "pval = 1 - stats.chi2.cdf(teststat, 1)\n",
    "\n",
    "print(f'r2: {r2}\\n')\n",
    "print(f'n: {n}\\n')\n",
    "print(f'teststat: {teststat}\\n')\n",
    "print(f'pval: {pval}\\n')\n"
   ]
  },
  {
   "cell_type": "markdown",
   "metadata": {},
   "source": [
    "# 5) IV with Panel Data \n",
    "## Example: Job Training and Worker Productivity"
   ]
  },
  {
   "cell_type": "code",
   "execution_count": 6,
   "metadata": {},
   "outputs": [
    {
     "name": "stdout",
     "output_type": "stream",
     "text": [
      "table_iv: \n",
      "                   b      se       t    pval\n",
      "Intercept    -0.0327  0.1270 -0.2573  0.7982\n",
      "hrsemp_diff1 -0.0142  0.0079 -1.7882  0.0808\n",
      "\n"
     ]
    },
    {
     "name": "stderr",
     "output_type": "stream",
     "text": [
      "/Users/randallr.rojas/anaconda2/lib/python3.8/site-packages/linearmodels/shared/exceptions.py:35: MissingValueWarning: \n",
      "Inputs contain missing values. Dropping rows with missing observations.\n",
      "  warnings.warn(missing_value_warning_msg, MissingValueWarning)\n"
     ]
    }
   ],
   "source": [
    "import wooldridge as woo\n",
    "import pandas as pd\n",
    "import linearmodels.iv as iv\n",
    "\n",
    "jtrain = woo.dataWoo('jtrain')\n",
    "\n",
    "# define panel data (for 1987 and 1988 only):\n",
    "jtrain_87_88 = jtrain.loc[(jtrain['year'] == 1987) | (jtrain['year'] == 1988), :]\n",
    "jtrain_87_88 = jtrain_87_88.set_index(['fcode', 'year'])\n",
    "\n",
    "# manual computation of deviations of entity means:\n",
    "jtrain_87_88['lscrap_diff1'] = \\\n",
    "    jtrain_87_88.sort_values(['fcode', 'year']).groupby('fcode')['lscrap'].diff()\n",
    "jtrain_87_88['hrsemp_diff1'] = \\\n",
    "    jtrain_87_88.sort_values(['fcode', 'year']).groupby('fcode')['hrsemp'].diff()\n",
    "jtrain_87_88['grant_diff1'] = \\\n",
    "    jtrain_87_88.sort_values(['fcode', 'year']).groupby('fcode')['grant'].diff()\n",
    "\n",
    "# IV regression:\n",
    "reg_iv = iv.IV2SLS.from_formula(\n",
    "    formula='lscrap_diff1 ~ 1 + [hrsemp_diff1 ~ grant_diff1]',\n",
    "    data=jtrain_87_88)\n",
    "results_iv = reg_iv.fit(cov_type='unadjusted', debiased=True)\n",
    "\n",
    "# print regression table:\n",
    "table_iv = pd.DataFrame({'b': round(results_iv.params, 4),\n",
    "                         'se': round(results_iv.std_errors, 4),\n",
    "                         't': round(results_iv.tstats, 4),\n",
    "                         'pval': round(results_iv.pvalues, 4)})\n",
    "print(f'table_iv: \\n{table_iv}\\n')"
   ]
  }
 ],
 "metadata": {
  "kernelspec": {
   "display_name": "Python 3 (ipykernel)",
   "language": "python",
   "name": "python3"
  },
  "language_info": {
   "codemirror_mode": {
    "name": "ipython",
    "version": 3
   },
   "file_extension": ".py",
   "mimetype": "text/x-python",
   "name": "python",
   "nbconvert_exporter": "python",
   "pygments_lexer": "ipython3",
   "version": "3.8.5"
  },
  "latex_envs": {
   "LaTeX_envs_menu_present": true,
   "autoclose": false,
   "autocomplete": true,
   "bibliofile": "biblio.bib",
   "cite_by": "apalike",
   "current_citInitial": 1,
   "eqLabelWithNumbers": true,
   "eqNumInitial": 1,
   "hotkeys": {
    "equation": "Ctrl-E",
    "itemize": "Ctrl-I"
   },
   "labels_anchors": false,
   "latex_user_defs": false,
   "report_style_numbering": false,
   "user_envs_cfg": false
  },
  "varInspector": {
   "cols": {
    "lenName": 16,
    "lenType": 16,
    "lenVar": 40
   },
   "kernels_config": {
    "python": {
     "delete_cmd_postfix": "",
     "delete_cmd_prefix": "del ",
     "library": "var_list.py",
     "varRefreshCmd": "print(var_dic_list())"
    },
    "r": {
     "delete_cmd_postfix": ") ",
     "delete_cmd_prefix": "rm(",
     "library": "var_list.r",
     "varRefreshCmd": "cat(var_dic_list()) "
    }
   },
   "types_to_exclude": [
    "module",
    "function",
    "builtin_function_or_method",
    "instance",
    "_Feature"
   ],
   "window_display": false
  }
 },
 "nbformat": 4,
 "nbformat_minor": 4
}
