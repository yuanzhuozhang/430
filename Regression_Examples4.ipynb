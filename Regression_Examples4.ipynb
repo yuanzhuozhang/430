{
 "cells": [
  {
   "cell_type": "markdown",
   "metadata": {},
   "source": [
    "## Econ 430\n",
    "### UCLA, Master of Quantitative Economics\n",
    "#### Dr. Randall R. Rojas\n",
    "Note: For more details on the codes, please see our textbook; Using Python for Introductory Econometrics by F. Heiss & D. Brunner."
   ]
  },
  {
   "cell_type": "markdown",
   "metadata": {},
   "source": [
    "# 1) Two Stage Least Squares Estimation\n",
    "## Example: Labor Supply of Married,  Working Women"
   ]
  },
  {
   "cell_type": "code",
   "execution_count": 1,
   "metadata": {},
   "outputs": [
    {
     "name": "stdout",
     "output_type": "stream",
     "text": [
      "table_iv1: \n",
      "                      b        se       t    pval\n",
      "Intercept     2225.6618  574.5641  3.8737  0.0001\n",
      "educ          -183.7513   59.0998 -3.1092  0.0020\n",
      "age             -7.8061    9.3780 -0.8324  0.4057\n",
      "kidslt6       -198.1543  182.9291 -1.0832  0.2793\n",
      "nwifeinc       -10.1696    6.6147 -1.5374  0.1249\n",
      "np.log(wage)  1639.5556  470.5757  3.4841  0.0005\n",
      "\n",
      "table_iv2: \n",
      "                    b      se       t    pval\n",
      "Intercept     -0.6557  0.3378 -1.9412  0.0529\n",
      "educ           0.1103  0.0155  7.1069  0.0000\n",
      "exper          0.0346  0.0195  1.7742  0.0767\n",
      "I(exper ** 2) -0.0007  0.0005 -1.5543  0.1209\n",
      "hours          0.0001  0.0003  0.4945  0.6212\n",
      "\n",
      "cor_u1u2: -0.9037694196299446\n",
      "\n"
     ]
    }
   ],
   "source": [
    "import wooldridge as woo\n",
    "import numpy as np\n",
    "import pandas as pd\n",
    "import linearmodels.iv as iv\n",
    "\n",
    "mroz = woo.dataWoo('mroz')\n",
    "\n",
    "# restrict to non-missing wage observations:\n",
    "mroz = mroz.dropna(subset=['lwage'])\n",
    "\n",
    "# 2SLS regressions:\n",
    "reg_iv1 = iv.IV2SLS.from_formula(\n",
    "    'hours ~ 1 + educ +  age + kidslt6 + nwifeinc +'\n",
    "    '[np.log(wage) ~ exper + I(exper**2)]', data=mroz)\n",
    "results_iv1 = reg_iv1.fit(cov_type='unadjusted', debiased=True)\n",
    "\n",
    "reg_iv2 = iv.IV2SLS.from_formula(\n",
    "    'np.log(wage) ~ 1 + educ + exper + I(exper**2) +'\n",
    "    '[hours ~ age + kidslt6 + nwifeinc]', data=mroz)\n",
    "results_iv2 = reg_iv2.fit(cov_type='unadjusted', debiased=True)\n",
    "\n",
    "# print results:\n",
    "table_iv1 = pd.DataFrame({'b': round(results_iv1.params, 4),\n",
    "                          'se': round(results_iv1.std_errors, 4),\n",
    "                          't': round(results_iv1.tstats, 4),\n",
    "                          'pval': round(results_iv1.pvalues, 4)})\n",
    "print(f'table_iv1: \\n{table_iv1}\\n')\n",
    "\n",
    "table_iv2 = pd.DataFrame({'b': round(results_iv2.params, 4),\n",
    "                          'se': round(results_iv2.std_errors, 4),\n",
    "                          't': round(results_iv2.tstats, 4),\n",
    "                          'pval': round(results_iv2.pvalues, 4)})\n",
    "print(f'table_iv2: \\n{table_iv2}\\n')\n",
    "\n",
    "cor_u1u2 = np.corrcoef(results_iv1.resids, results_iv2.resids)[0, 1]\n",
    "print(f'cor_u1u2: {cor_u1u2}\\n')"
   ]
  },
  {
   "cell_type": "markdown",
   "metadata": {},
   "source": [
    "# 1) Three Stage Least Squares Estimation\n",
    "## Example: Labor Supply of Married,  Working Women"
   ]
  },
  {
   "cell_type": "code",
   "execution_count": 2,
   "metadata": {},
   "outputs": [
    {
     "name": "stdout",
     "output_type": "stream",
     "text": [
      "results_3sls: \n",
      "                           System GLS Estimation Summary                           \n",
      "===================================================================================\n",
      "Estimator:                        GLS   Overall R-squared:                  -2.3957\n",
      "No. Equations.:                     2   McElroy's R-squared:                 0.7846\n",
      "No. Observations:                 428   Judge's (OLS) R-squared:            -2.3957\n",
      "Date:                Sun, Nov 07 2021   Berndt's R-squared:                  0.5181\n",
      "Time:                        15:30:37   Dhrymes's R-squared:                -2.3957\n",
      "                                        Cov. Estimator:                  unadjusted\n",
      "                                        Num. Constraints:                      None\n",
      "                    Equation: eq1, Dependent Variable: hours                    \n",
      "================================================================================\n",
      "              Parameter  Std. Err.     T-stat    P-value    Lower CI    Upper CI\n",
      "--------------------------------------------------------------------------------\n",
      "Intercept        2305.9     511.54     4.5077     0.0000      1300.4      3311.3\n",
      "educ            -212.82     53.727    -3.9611     0.0001     -318.43     -107.21\n",
      "age             -9.5150     7.9609    -1.1952     0.2327     -25.163      6.1331\n",
      "kidslt6         -192.36     150.92    -1.2746     0.2032     -489.00      104.28\n",
      "nwifeinc        -0.1770     3.5836    -0.0494     0.9606     -7.2210      6.8670\n",
      "np.log(wage)     1781.9     439.88     4.0509     0.0001      917.30      2646.6\n",
      "                                                                                \n",
      "====================\n",
      "    Instruments     \n",
      "--------------------\n",
      "exper, I(exper ** 2)\n",
      "                    \n",
      "                 Equation: eq2, Dependent Variable: np.log(wage)                 \n",
      "=================================================================================\n",
      "               Parameter  Std. Err.     T-stat    P-value    Lower CI    Upper CI\n",
      "---------------------------------------------------------------------------------\n",
      "Intercept        -0.6939     0.3360    -2.0653     0.0395     -1.3543     -0.0335\n",
      "educ              0.1127     0.0154     7.3355     0.0000      0.0825      0.1429\n",
      "exper             0.0214     0.0154     1.3929     0.1644     -0.0088      0.0517\n",
      "I(exper ** 2)    -0.0003     0.0003    -1.1303     0.2590     -0.0008      0.0002\n",
      "hours             0.0002     0.0002     0.7707     0.4413     -0.0003      0.0007\n",
      "======================\n",
      "     Instruments      \n",
      "----------------------\n",
      "age, kidslt6, nwifeinc\n",
      "----------------------\n",
      "\n",
      "Covariance Estimator:\n",
      "Homoskedastic (Unadjusted) Covariance (Debiased: True, GLS: True)\n",
      "\n"
     ]
    }
   ],
   "source": [
    "import wooldridge as woo\n",
    "import numpy as np\n",
    "import linearmodels.system as iv3\n",
    "\n",
    "mroz = woo.dataWoo('mroz')\n",
    "\n",
    "# restrict to non-missing wage observations:\n",
    "mroz = mroz.dropna(subset=['lwage'])\n",
    "\n",
    "# 3SLS regressions:\n",
    "formula = {'eq1': 'hours ~ 1 + educ + age + kidslt6 + nwifeinc +'\n",
    "                  '[np.log(wage) ~ exper+I(exper**2)]',\n",
    "           'eq2': 'np.log(wage) ~ 1 + educ + exper + I(exper**2) +'\n",
    "                  '[hours ~ age + kidslt6 + nwifeinc]'}\n",
    "\n",
    "reg_3sls = iv3.IV3SLS.from_formula(formula, data=mroz)\n",
    "\n",
    "results_3sls = reg_3sls.fit(cov_type='unadjusted', debiased=True)\n",
    "print(f'results_3sls: \\n{results_3sls}\\n')\n"
   ]
  }
 ],
 "metadata": {
  "kernelspec": {
   "display_name": "Python 3 (ipykernel)",
   "language": "python",
   "name": "python3"
  },
  "language_info": {
   "codemirror_mode": {
    "name": "ipython",
    "version": 3
   },
   "file_extension": ".py",
   "mimetype": "text/x-python",
   "name": "python",
   "nbconvert_exporter": "python",
   "pygments_lexer": "ipython3",
   "version": "3.8.5"
  },
  "latex_envs": {
   "LaTeX_envs_menu_present": true,
   "autoclose": false,
   "autocomplete": true,
   "bibliofile": "biblio.bib",
   "cite_by": "apalike",
   "current_citInitial": 1,
   "eqLabelWithNumbers": true,
   "eqNumInitial": 1,
   "hotkeys": {
    "equation": "Ctrl-E",
    "itemize": "Ctrl-I"
   },
   "labels_anchors": false,
   "latex_user_defs": false,
   "report_style_numbering": false,
   "user_envs_cfg": false
  },
  "varInspector": {
   "cols": {
    "lenName": 16,
    "lenType": 16,
    "lenVar": 40
   },
   "kernels_config": {
    "python": {
     "delete_cmd_postfix": "",
     "delete_cmd_prefix": "del ",
     "library": "var_list.py",
     "varRefreshCmd": "print(var_dic_list())"
    },
    "r": {
     "delete_cmd_postfix": ") ",
     "delete_cmd_prefix": "rm(",
     "library": "var_list.r",
     "varRefreshCmd": "cat(var_dic_list()) "
    }
   },
   "types_to_exclude": [
    "module",
    "function",
    "builtin_function_or_method",
    "instance",
    "_Feature"
   ],
   "window_display": false
  }
 },
 "nbformat": 4,
 "nbformat_minor": 4
}
